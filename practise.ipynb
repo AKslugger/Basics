{
  "nbformat": 4,
  "nbformat_minor": 0,
  "metadata": {
    "colab": {
      "name": "practise.ipynb",
      "provenance": [],
      "collapsed_sections": [],
      "include_colab_link": true
    },
    "kernelspec": {
      "name": "python3",
      "display_name": "Python 3"
    }
  },
  "cells": [
    {
      "cell_type": "markdown",
      "metadata": {
        "id": "view-in-github",
        "colab_type": "text"
      },
      "source": [
        "<a href=\"https://colab.research.google.com/github/AKslugger/Basics/blob/main/practise.ipynb\" target=\"_parent\"><img src=\"https://colab.research.google.com/assets/colab-badge.svg\" alt=\"Open In Colab\"/></a>"
      ]
    },
    {
      "cell_type": "markdown",
      "metadata": {
        "id": "gwouc5uANe1h"
      },
      "source": [
        "GOOGLE Q/A- i/p: [0,0,1,2] o/p:[1,3] #add one to last digit"
      ]
    },
    {
      "cell_type": "code",
      "metadata": {
        "id": "A6F5Gd_KEjHG"
      },
      "source": [
        "class Solution:\n",
        "    def plusOne(self, a):\n",
        "        i=len(a)-1\n",
        "        carry=1\n",
        "        while i>=0:\n",
        "            if a[i]==9 and carry==1:\n",
        "                a[i]=0\n",
        "                carry=1\n",
        "            else:\n",
        "                a[i]=a[i]+carry\n",
        "                carry=0\n",
        "            i=i-1\n",
        "        if carry==1:\n",
        "            a=[1]+a\n",
        "        while a[0]==0:\n",
        "            a=a[1:]\n",
        "        return a"
      ],
      "execution_count": null,
      "outputs": []
    },
    {
      "cell_type": "markdown",
      "metadata": {
        "id": "zTBxzKqzGfGf"
      },
      "source": [
        "AMAZON:Max steps to reach n stairs \n",
        "- at a time 1 or 2"
      ]
    },
    {
      "cell_type": "code",
      "metadata": {
        "id": "D9WHCiJmGpiA"
      },
      "source": [
        "class Solution:\n",
        "    def max_steps(self, A):\n",
        "        steps=[0]*(A+1)\n",
        "        steps[0]=0\n",
        "        steps[1]=1\n",
        "        steps[2]=2\n",
        "        p=10**9+7\n",
        "        for i in range(3,A+1):\n",
        "            steps[i]=(steps[i-1]%p+steps[i-2]%p)%p\n",
        "        return(steps[A])"
      ],
      "execution_count": null,
      "outputs": []
    },
    {
      "cell_type": "code",
      "metadata": {
        "id": "54lN1uuVNmqz",
        "colab": {
          "base_uri": "https://localhost:8080/",
          "height": 135
        },
        "outputId": "6133b9f9-d83a-434c-92f7-833279472031"
      },
      "source": [
        "''' 999+1\n",
        "    1000- need to creat anoter aray\n",
        "    '''"
      ],
      "execution_count": null,
      "outputs": [
        {
          "output_type": "error",
          "ename": "SyntaxError",
          "evalue": "ignored",
          "traceback": [
            "\u001b[0;36m  File \u001b[0;32m\"<ipython-input-4-98c746a8591a>\"\u001b[0;36m, line \u001b[0;32m3\u001b[0m\n\u001b[0;31m    \u001b[0m\n\u001b[0m    ^\u001b[0m\n\u001b[0;31mSyntaxError\u001b[0m\u001b[0;31m:\u001b[0m EOF while scanning triple-quoted string literal\n"
          ]
        }
      ]
    },
    {
      "cell_type": "code",
      "metadata": {
        "id": "OY1XQvJ802mB"
      },
      "source": [
        "help(dict)\n",
        "a = \"hello, world!\"\n",
        "print(a[5])"
      ],
      "execution_count": null,
      "outputs": []
    },
    {
      "cell_type": "code",
      "metadata": {
        "id": "NQ4XSxvwJavf",
        "colab": {
          "base_uri": "https://localhost:8080/"
        },
        "outputId": "0ce4e4e7-f771-4177-93bd-b9e27038bf6a"
      },
      "source": [
        "a=8\n",
        "b=51\n",
        "c=2\n",
        "c=(a^c)^c\n",
        "print(c)\n",
        "b=b%4\n",
        "print(b)\n",
        "d=a+b+c\n",
        "print(d)"
      ],
      "execution_count": null,
      "outputs": [
        {
          "output_type": "stream",
          "text": [
            "8\n",
            "3\n",
            "19\n"
          ],
          "name": "stdout"
        }
      ]
    },
    {
      "cell_type": "code",
      "metadata": {
        "id": "NLXMI4U408Jb",
        "colab": {
          "base_uri": "https://localhost:8080/"
        },
        "outputId": "bc866799-3536-4e26-b460-0894b20bab69"
      },
      "source": [
        "x=2\n",
        "y=1\n",
        "z=5\n",
        "a=(x and y) or (z+1)\n",
        "print(a)"
      ],
      "execution_count": null,
      "outputs": [
        {
          "output_type": "stream",
          "text": [
            "1\n"
          ],
          "name": "stdout"
        }
      ]
    },
    {
      "cell_type": "code",
      "metadata": {
        "id": "auE_3N5yFmY_"
      },
      "source": [
        "while True:\n",
        "  a=int(input(\"enter a\"))\n",
        "  b=int(input(\"enter b\"))\n",
        "  c=a+b\n",
        "  print(\"ur ans is:\",c)\n",
        "  response=input(\"to continue enter Y/N:\")\n",
        "  if response=='N':\n",
        "    break\n",
        "  else:\n",
        "    continue"
      ],
      "execution_count": null,
      "outputs": []
    },
    {
      "cell_type": "code",
      "metadata": {
        "id": "a5eYJpDgzHld"
      },
      "source": [
        "# Arnstrong Program\n",
        "n=int(input()) \n",
        "s=0\n",
        "temp=n\n",
        "while(n>0):\n",
        "  r=n%10\n",
        "  s=s+r*r*r\n",
        "  n=n//10\n",
        "if(temp==s):\n",
        "  print(\"arm\")\n",
        "else:\n",
        "  print(\"not\")"
      ],
      "execution_count": null,
      "outputs": []
    },
    {
      "cell_type": "markdown",
      "metadata": {
        "id": "6VvKH885uWUe"
      },
      "source": [
        "# New Section"
      ]
    },
    {
      "cell_type": "markdown",
      "metadata": {
        "id": "pF7glLFvuWdQ"
      },
      "source": [
        "# New Section"
      ]
    },
    {
      "cell_type": "code",
      "metadata": {
        "id": "OTFMuDMlbtK_"
      },
      "source": [
        ""
      ],
      "execution_count": null,
      "outputs": []
    },
    {
      "cell_type": "code",
      "metadata": {
        "id": "6HFlrwtbppxa"
      },
      "source": [
        "'''\n",
        "#total simple interest\n",
        "i=0.07\n",
        "mamount=pamount*(1+i*tenure)'''\n",
        "'''\n",
        " #for display only simple interest amount\n",
        "i=7       \n",
        "mamount=(pamount*tenure*i)/100'''\n",
        "i=0.07\n",
        "while True:\n",
        "  pamount=float(input(\"enter the amount\"))\n",
        "  tenure=int(input(\"enter the tenure of investement:\"))\n",
        "#for the compound interset \n",
        "  mamount=pamount*(1+i)**tenure\n",
        "  print(\"mamount is:\",mamount)\n",
        "  res=input(\"do use cal again Y/N:\")\n",
        "  if res=='N':\n",
        "    print(\"tq for using\")\n",
        "    break\n",
        "  elif res=='Y':\n",
        "    continue\n",
        "  else:\n",
        "    print(\"sorry we don't understand the calculater will continue\")\n",
        "    "
      ],
      "execution_count": null,
      "outputs": []
    },
    {
      "cell_type": "code",
      "metadata": {
        "id": "zHIpaTZrHxCc"
      },
      "source": [
        "def funname(username): #functions to increse capability of a program and to decrese lines of code, \n",
        "  print(\"ur pet name is \",username)\n",
        "petname=input(\"enter pet name\")\n",
        "funname(petname)"
      ],
      "execution_count": null,
      "outputs": []
    },
    {
      "cell_type": "code",
      "metadata": {
        "id": "fuYHlJaTOYFu"
      },
      "source": [
        "len.__doc__ # \".__doc__\" will be used to know description of what an inbuilt function wil do"
      ],
      "execution_count": null,
      "outputs": []
    },
    {
      "cell_type": "code",
      "metadata": {
        "id": "qviEd6xtKw3f"
      },
      "source": [
        "def userdetail():\n",
        "  print(\"enter to my world \")\n",
        "  name=input(\"enter ur name\")\n",
        "  email=input(\"enter email\")\n",
        "  return name,email    # not much imp\n",
        "def investdetail():\n",
        "  pamount=float(input(\"enter the amount\"))\n",
        "  tenure=int(input(\"enter the tenure of investement:\"))\n",
        "  return pamount,tenure\n",
        "def mcalc(pamount,tenure):\n",
        "  i=0.07\n",
        "  mamount=pamount*(1+i)**tenure\n",
        "  print(\"mamount is:\",mamount)\n",
        "while True:\n",
        "  name,email=userdetail()\n",
        "  pamount,tenure=investdetail()\n",
        "  mcalc(pamount,tenure)\n",
        "  res=input(\"do use calci again Y/N:\")\n",
        "  if res=='N':\n",
        "    print(\"tq for using\",name)\n",
        "    break\n",
        "  elif res=='Y':\n",
        "    continue\n",
        "  else:\n",
        "    print(\"sorry we don't understand the calculater will continue\")\n",
        "    \n",
        "\n",
        "  \n"
      ],
      "execution_count": null,
      "outputs": []
    },
    {
      "cell_type": "code",
      "metadata": {
        "id": "7bjLP9bw6LU_"
      },
      "source": [
        "num=3\n",
        "count=5\n",
        "while count>0:\n",
        "  gus=int(input(\"guess a nu\"))\n",
        "  if gus==num:\n",
        "    print(\"super guess\")\n",
        "    break\n",
        "  else:\n",
        "    print(\"wrong guess\")\n",
        "  count=count-1"
      ],
      "execution_count": null,
      "outputs": []
    },
    {
      "cell_type": "code",
      "metadata": {
        "id": "nPqpvjhaatX1",
        "colab": {
          "base_uri": "https://localhost:8080/",
          "height": 35
        },
        "outputId": "5cd4ff23-bf0e-42d9-a26e-733c6bd9c77f"
      },
      "source": [
        "a=\"AbCdEfGhIjKlMNOPQRSTUVWXyz\"\n",
        "a[0:-3:2]"
      ],
      "execution_count": null,
      "outputs": [
        {
          "output_type": "execute_result",
          "data": {
            "application/vnd.google.colaboratory.intrinsic+json": {
              "type": "string"
            },
            "text/plain": [
              "'ACEGIKMOQSUW'"
            ]
          },
          "metadata": {
            "tags": []
          },
          "execution_count": 7
        }
      ]
    },
    {
      "cell_type": "code",
      "metadata": {
        "id": "biKbXnyrCmXy",
        "colab": {
          "base_uri": "https://localhost:8080/",
          "height": 52
        },
        "outputId": "8ce1f75a-835e-4c99-d673-28887401780e"
      },
      "source": [
        "a='abcdefgh'\n",
        "print(a[:2])\n",
        "a[3:]"
      ],
      "execution_count": null,
      "outputs": [
        {
          "output_type": "stream",
          "text": [
            "ab\n"
          ],
          "name": "stdout"
        },
        {
          "output_type": "execute_result",
          "data": {
            "application/vnd.google.colaboratory.intrinsic+json": {
              "type": "string"
            },
            "text/plain": [
              "'defgh'"
            ]
          },
          "metadata": {
            "tags": []
          },
          "execution_count": 9
        }
      ]
    },
    {
      "cell_type": "code",
      "metadata": {
        "id": "sRlFQDFYEW_n"
      },
      "source": [
        "def pattern(s,n):\n",
        "  first=s[:n]\n",
        "  second=s[n+1:]\n",
        "  r=first+second\n",
        "  return r\n",
        "s=str(input('enter a string'))\n",
        "n=int(input('enter the position of string u want to remove'))\n",
        "print(pattern(s,n))"
      ],
      "execution_count": null,
      "outputs": []
    },
    {
      "cell_type": "code",
      "metadata": {
        "id": "5P5kGDWzzHI5",
        "colab": {
          "base_uri": "https://localhost:8080/",
          "height": 52
        },
        "outputId": "f91730ef-f1c7-473e-9eaf-71439c37abde"
      },
      "source": [
        "# without using print statement\n",
        "t=input()\n",
        "p=\"%s something else\"\n",
        "p%t"
      ],
      "execution_count": null,
      "outputs": [
        {
          "output_type": "stream",
          "text": [
            "AK_slugger\n"
          ],
          "name": "stdout"
        },
        {
          "output_type": "execute_result",
          "data": {
            "application/vnd.google.colaboratory.intrinsic+json": {
              "type": "string"
            },
            "text/plain": [
              "'AK_slugger something else'"
            ]
          },
          "metadata": {
            "tags": []
          },
          "execution_count": 10
        }
      ]
    },
    {
      "cell_type": "code",
      "metadata": {
        "id": "gl4HygcuzyCB",
        "colab": {
          "base_uri": "https://localhost:8080/",
          "height": 35
        },
        "outputId": "dbea2ec8-9b46-4d25-dde1-70ef95602114"
      },
      "source": [
        "t=\"anjani\"\n",
        "p=\"%s something else\"\n",
        "p%(\"ak\")"
      ],
      "execution_count": null,
      "outputs": [
        {
          "output_type": "execute_result",
          "data": {
            "application/vnd.google.colaboratory.intrinsic+json": {
              "type": "string"
            },
            "text/plain": [
              "'ak something else'"
            ]
          },
          "metadata": {
            "tags": []
          },
          "execution_count": 12
        }
      ]
    },
    {
      "cell_type": "markdown",
      "metadata": {
        "id": "cjUIBMREz3z_"
      },
      "source": [
        "t=\"anjani\"\n",
        "k=\"yes\"\n",
        "p=\"%s %s something else\"\n",
        "print(p)\n",
        "p%(t,\"kumar\")"
      ]
    },
    {
      "cell_type": "code",
      "metadata": {
        "id": "HvDbAqmBtmYL"
      },
      "source": [
        "for i in range(0.0,3.0):\n",
        "  print(i)\n",
        "# Can't iterate through float values"
      ],
      "execution_count": null,
      "outputs": []
    },
    {
      "cell_type": "code",
      "metadata": {
        "id": "_PEvvtzMusfj",
        "colab": {
          "base_uri": "https://localhost:8080/"
        },
        "outputId": "52f01890-db48-4602-e4e0-96fa5b334325"
      },
      "source": [
        "for i in 'conduiar online'[10::-1]:\n",
        "  print(i)"
      ],
      "execution_count": null,
      "outputs": [
        {
          "output_type": "stream",
          "text": [
            "n\n",
            "o\n",
            " \n",
            "r\n",
            "a\n",
            "i\n",
            "u\n",
            "d\n",
            "n\n",
            "o\n",
            "c\n"
          ],
          "name": "stdout"
        }
      ]
    },
    {
      "cell_type": "code",
      "metadata": {
        "id": "_K7eNKy9vMsG",
        "colab": {
          "base_uri": "https://localhost:8080/"
        },
        "outputId": "fbd47dd9-1bb2-4eaf-d64d-2f1433075015"
      },
      "source": [
        "x='hello'\n",
        "for i in x:\n",
        "  print(i.upper())"
      ],
      "execution_count": null,
      "outputs": [
        {
          "output_type": "stream",
          "text": [
            "H\n",
            "E\n",
            "L\n",
            "L\n",
            "O\n"
          ],
          "name": "stdout"
        }
      ]
    },
    {
      "cell_type": "code",
      "metadata": {
        "id": "6jQ9qZ93B-PR",
        "colab": {
          "base_uri": "https://localhost:8080/"
        },
        "outputId": "5a77f566-fdd7-4293-d85c-f109fc9274f7"
      },
      "source": [
        "str=\"condiuira\"\n",
        "for elem in str[0:8:2]:\n",
        "  print(elem)"
      ],
      "execution_count": null,
      "outputs": [
        {
          "output_type": "stream",
          "text": [
            "c\n",
            "n\n",
            "i\n",
            "i\n"
          ],
          "name": "stdout"
        }
      ]
    },
    {
      "cell_type": "code",
      "metadata": {
        "id": "VftkDSZOyT0m",
        "colab": {
          "base_uri": "https://localhost:8080/"
        },
        "outputId": "492c172f-b96c-4ac3-bd77-720277a070d1"
      },
      "source": [
        "lst= [10,20,30,40,50]\n",
        "p=lst.pop()\n",
        "print(lst)\n",
        "for i in range (1,4):\n",
        "  lst[i-1]=lst[i]\n",
        "for i in range (0,4):\n",
        "  print(lst[i],end=\" \")"
      ],
      "execution_count": null,
      "outputs": [
        {
          "output_type": "stream",
          "text": [
            "[10, 20, 30, 40]\n",
            "20 30 40 40 "
          ],
          "name": "stdout"
        }
      ]
    },
    {
      "cell_type": "code",
      "metadata": {
        "id": "uVMtOFxzvSSo",
        "colab": {
          "base_uri": "https://localhost:8080/"
        },
        "outputId": "939deee3-2f6c-440e-b7a8-8d77b3195527"
      },
      "source": [
        "188<<1\n"
      ],
      "execution_count": null,
      "outputs": [
        {
          "output_type": "execute_result",
          "data": {
            "text/plain": [
              "376"
            ]
          },
          "metadata": {
            "tags": []
          },
          "execution_count": 16
        }
      ]
    },
    {
      "cell_type": "code",
      "metadata": {
        "id": "I_SXgs8A3Mkn"
      },
      "source": [
        "b = \" hello, world! \"\n",
        "print(b[3:9])"
      ],
      "execution_count": null,
      "outputs": []
    },
    {
      "cell_type": "code",
      "metadata": {
        "id": "a3wBfo_O4V7u",
        "colab": {
          "base_uri": "https://localhost:8080/"
        },
        "outputId": "e1d1ae46-f4f0-46b6-a414-38fab6f496ce"
      },
      "source": [
        "a = \" hello, world! \"\n",
        "print(a.strip())"
      ],
      "execution_count": null,
      "outputs": [
        {
          "output_type": "stream",
          "text": [
            "hello, world!\n"
          ],
          "name": "stdout"
        }
      ]
    },
    {
      "cell_type": "code",
      "metadata": {
        "id": "Emwbvveu5CPJ"
      },
      "source": [
        "a = \" hello , world@ \"\n",
        "print (len(a))"
      ],
      "execution_count": null,
      "outputs": []
    },
    {
      "cell_type": "code",
      "metadata": {
        "id": "WAGb_E-N5uR2",
        "colab": {
          "base_uri": "https://localhost:8080/"
        },
        "outputId": "e31ac549-5623-40dc-c4c7-0edb1d6a3f07"
      },
      "source": [
        "a = \"HELLLLO @#,WORLD\"\n",
        "print (a.lower())"
      ],
      "execution_count": null,
      "outputs": [
        {
          "output_type": "stream",
          "text": [
            "hellllo @#,world\n"
          ],
          "name": "stdout"
        }
      ]
    },
    {
      "cell_type": "code",
      "metadata": {
        "id": "TA1ycmCh5wWt",
        "colab": {
          "base_uri": "https://localhost:8080/"
        },
        "outputId": "336e79df-44cb-430a-fd74-91c03ef84daa"
      },
      "source": [
        "a = \"hello world@##%$#\"\n",
        "print (a.upper())"
      ],
      "execution_count": null,
      "outputs": [
        {
          "output_type": "stream",
          "text": [
            "HELLO WORLD@##%$#\n"
          ],
          "name": "stdout"
        }
      ]
    },
    {
      "cell_type": "code",
      "metadata": {
        "id": "De04QyY16a8O",
        "colab": {
          "base_uri": "https://localhost:8080/"
        },
        "outputId": "e388cbb0-0273-4acb-e3da-d42cf1fae594"
      },
      "source": [
        "a = \", hello world\"\n",
        "print (a.replace(\"h\",\"t\"))"
      ],
      "execution_count": null,
      "outputs": [
        {
          "output_type": "stream",
          "text": [
            ", tello world\n"
          ],
          "name": "stdout"
        }
      ]
    },
    {
      "cell_type": "code",
      "metadata": {
        "id": "DzIF6CHT6boj",
        "colab": {
          "base_uri": "https://localhost:8080/"
        },
        "outputId": "d706b5e2-a584-450f-90c5-c3c64b181412"
      },
      "source": [
        "a = \"hellotworld\"\n",
        "print (a.split(\"t\"))"
      ],
      "execution_count": null,
      "outputs": [
        {
          "output_type": "stream",
          "text": [
            "['hello', 'world']\n"
          ],
          "name": "stdout"
        }
      ]
    },
    {
      "cell_type": "code",
      "metadata": {
        "id": "JkVGFbE-6cDK"
      },
      "source": [
        "thislist = [\"app\",\"bat\",\"cat\"]\n",
        "print (thislist)"
      ],
      "execution_count": null,
      "outputs": []
    },
    {
      "cell_type": "code",
      "metadata": {
        "id": "nmHs8XgF8UXS",
        "colab": {
          "base_uri": "https://localhost:8080/"
        },
        "outputId": "9f47ab07-1597-434c-dcbb-2f84066315c3"
      },
      "source": [
        "thislist = [\"app\",\"cat\",\"pet\"]\n",
        "print (thislist[1])"
      ],
      "execution_count": null,
      "outputs": [
        {
          "output_type": "stream",
          "text": [
            "cat\n"
          ],
          "name": "stdout"
        }
      ]
    },
    {
      "cell_type": "code",
      "metadata": {
        "id": "89ydWEqK8U-G"
      },
      "source": [
        "thislist = [\"a\",\"b\",\"c\"]\n",
        "thislist[1] =\"d\"\n",
        "print (thislist)"
      ],
      "execution_count": null,
      "outputs": []
    },
    {
      "cell_type": "code",
      "metadata": {
        "id": "r_RP3ISv8VOJ",
        "colab": {
          "base_uri": "https://localhost:8080/"
        },
        "outputId": "8da18122-3bf2-4ed7-a5bb-427353028466"
      },
      "source": [
        "thislist = [\"a\",\"b\",\"d\"]\n",
        "for x in thislist:\n",
        "  print(x.upper())"
      ],
      "execution_count": null,
      "outputs": [
        {
          "output_type": "stream",
          "text": [
            "A\n",
            "B\n",
            "D\n"
          ],
          "name": "stdout"
        }
      ]
    },
    {
      "cell_type": "code",
      "metadata": {
        "id": "1rZaHhPP8Va9"
      },
      "source": [
        "list = [\"a\",\"b\",\"c\"]\n",
        "if \"a\" in list:\n",
        "  print( \"'a' is in list\")"
      ],
      "execution_count": null,
      "outputs": []
    },
    {
      "cell_type": "code",
      "metadata": {
        "colab": {
          "base_uri": "https://localhost:8080/"
        },
        "id": "fdiAGdigepUb",
        "outputId": "b81cefc1-b53f-4dcb-e474-61710e9a3382"
      },
      "source": [
        "thislist = [\"apple\", \"banana\", \"cherry\"]\n",
        "tropical = [\"mango\", \"pineapple\", \"papaya\"]\n",
        "thislist.extend(tropical)\n",
        "print(thislist)"
      ],
      "execution_count": null,
      "outputs": [
        {
          "output_type": "stream",
          "text": [
            "['apple', 'banana', 'cherry', 'mango', 'pineapple', 'papaya']\n"
          ],
          "name": "stdout"
        }
      ]
    },
    {
      "cell_type": "code",
      "metadata": {
        "colab": {
          "base_uri": "https://localhost:8080/"
        },
        "id": "5obkpfiNeuA5",
        "outputId": "06944530-074b-41e5-ae8b-cdff484a0a2c"
      },
      "source": [
        "thislist = [\"apple\", \"banana\", \"cherry\"]\n",
        "thistuple = (\"kiwi\", \"orange\")\n",
        "thislist.extend(thistuple)\n",
        "print(thislist)\n",
        "# we can add a tuple to a list"
      ],
      "execution_count": null,
      "outputs": [
        {
          "output_type": "stream",
          "text": [
            "['apple', 'banana', 'cherry', 'kiwi', 'orange']\n"
          ],
          "name": "stdout"
        }
      ]
    },
    {
      "cell_type": "code",
      "metadata": {
        "id": "-_Pickdt8Vnw"
      },
      "source": [
        "a = [\"a\",\"b\",\"c\",\"c\",\"s\",\"q\"]\n",
        "print (len(a))"
      ],
      "execution_count": null,
      "outputs": []
    },
    {
      "cell_type": "markdown",
      "metadata": {
        "id": "gR9BkVtBgB1T"
      },
      "source": [
        "List Comprehension\n",
        "\n",
        "List comprehension offers a shorter syntax when you want to create a new list based on the values of an existing list."
      ]
    },
    {
      "cell_type": "code",
      "metadata": {
        "colab": {
          "base_uri": "https://localhost:8080/"
        },
        "id": "C2leH_hofmiN",
        "outputId": "75db67d7-9588-4a65-c272-ed51baeac728"
      },
      "source": [
        "fruits = [\"apple\", \"banana\", \"cherry\", \"kiwi\", \"mango\"]\n",
        "\n",
        "newlist = [x for x in fruits if \"a\" in x]\n",
        "\n",
        "print(newlist)"
      ],
      "execution_count": null,
      "outputs": [
        {
          "output_type": "stream",
          "text": [
            "['apple', 'banana', 'mango']\n"
          ],
          "name": "stdout"
        }
      ]
    },
    {
      "cell_type": "code",
      "metadata": {
        "id": "ndzxXRvMgU3o"
      },
      "source": [
        "thislist = [\"orange\", \"mango\", \"kiwi\", \"pineapple\", \"banana\"]\n",
        "thislist.sort()\n",
        "print(thislist)\n",
        "#thislist.sort(reverse = True)"
      ],
      "execution_count": null,
      "outputs": []
    },
    {
      "cell_type": "code",
      "metadata": {
        "colab": {
          "base_uri": "https://localhost:8080/"
        },
        "id": "GRwIqC1ngYeX",
        "outputId": "ff2258cb-b348-4f24-be83-6f03f2b304fb"
      },
      "source": [
        "thislist = [100, 50, 65, 82, 23]\n",
        "thislist.sort()\n",
        "print(thislist)\n",
        "#thislist.sort(reverse = True)"
      ],
      "execution_count": null,
      "outputs": [
        {
          "output_type": "stream",
          "text": [
            "[23, 50, 65, 82, 100]\n"
          ],
          "name": "stdout"
        }
      ]
    },
    {
      "cell_type": "code",
      "metadata": {
        "id": "vgwmfJSFB86H",
        "colab": {
          "base_uri": "https://localhost:8080/"
        },
        "outputId": "554d0815-40f5-4e6d-def4-07b5c95a75e8"
      },
      "source": [
        "a = [\"a\",\"v\",\"s\"]\n",
        "a.append(\"s\")\n",
        "print(a)"
      ],
      "execution_count": null,
      "outputs": [
        {
          "output_type": "stream",
          "text": [
            "['a', 'v', 's', 's']\n"
          ],
          "name": "stdout"
        }
      ]
    },
    {
      "cell_type": "code",
      "metadata": {
        "colab": {
          "base_uri": "https://localhost:8080/"
        },
        "id": "KmPcOSRIg7_2",
        "outputId": "7c8610cc-8197-42af-9306-5baf1bb142c9"
      },
      "source": [
        "\n",
        "thislist = [\"banana\", \"Orange\", \"Kiwi\", \"cherry\"]\n",
        "thislist.sort(key = str.lower)\n",
        "print(thislist)"
      ],
      "execution_count": null,
      "outputs": [
        {
          "output_type": "stream",
          "text": [
            "['banana', 'cherry', 'Kiwi', 'Orange']\n"
          ],
          "name": "stdout"
        }
      ]
    },
    {
      "cell_type": "code",
      "metadata": {
        "colab": {
          "base_uri": "https://localhost:8080/"
        },
        "id": "6gm0uYIghp7R",
        "outputId": "d36e7a8d-4742-436c-e1cd-3f41c4fc3c1d"
      },
      "source": [
        "thislist = [\"banana\", \"Orange\", \"Kiwi\", \"cherry\"]\n",
        "thislist.reverse()\n",
        "print(thislist)"
      ],
      "execution_count": null,
      "outputs": [
        {
          "output_type": "stream",
          "text": [
            "['cherry', 'Kiwi', 'Orange', 'banana']\n"
          ],
          "name": "stdout"
        }
      ]
    },
    {
      "cell_type": "code",
      "metadata": {
        "id": "gW7tpQ6IiQLn"
      },
      "source": [
        "#Make a copy of a list with the copy() method:\n",
        "\n",
        "thislist = [\"apple\", \"banana\", \"cherry\"]\n",
        "mylist = thislist.copy()\n",
        "print(mylist)"
      ],
      "execution_count": null,
      "outputs": []
    },
    {
      "cell_type": "code",
      "metadata": {
        "id": "LmgRBPAwiUBE"
      },
      "source": [
        "#ake a copy of a list with the list() method:\n",
        "\n",
        "thislist = [\"apple\", \"banana\", \"cherry\"]\n",
        "mylist = list(thislist)\n",
        "print(mylist)\n",
        "# https://www.w3schools.com/python/python_lists_methods.asp"
      ],
      "execution_count": null,
      "outputs": []
    },
    {
      "cell_type": "code",
      "metadata": {
        "id": "YOpUuzgIigtw"
      },
      "source": [
        "'''There are four collection data types in the Python programming language:\n",
        "\n",
        "List is a collection which is ordered and changeable. Allows duplicate members.\n",
        "Tuple is a collection which is ordered and unchangeable. Allows duplicate members.\n",
        "Set is a collection which is unordered and unindexed. No duplicate members.\n",
        "Dictionary is a collection which is ordered* and changeable. No duplicate members.\n",
        "*As of Python version 3.7, dictionaries are ordered. In Python 3.6 and earlier, dictionaries are unordered.'''"
      ],
      "execution_count": null,
      "outputs": []
    },
    {
      "cell_type": "code",
      "metadata": {
        "id": "Q1ov9QdIB9c8",
        "colab": {
          "base_uri": "https://localhost:8080/"
        },
        "outputId": "cd56d2f2-940d-43f1-e7d8-5a1d878056fa"
      },
      "source": [
        "list = [\"a\",\"s\",\"e\",\"q\"]\n",
        "list.insert(2,\"k\")\n",
        "print(list)"
      ],
      "execution_count": null,
      "outputs": [
        {
          "output_type": "stream",
          "text": [
            "['a', 's', 'k', 'e', 'q']\n"
          ],
          "name": "stdout"
        }
      ]
    },
    {
      "cell_type": "code",
      "metadata": {
        "id": "hxkFgEvGB9uz"
      },
      "source": [
        "list = [\"a\",\"s\",\"r\"]\n",
        "list.remove(\"s\")\n",
        "print(list)"
      ],
      "execution_count": null,
      "outputs": []
    },
    {
      "cell_type": "code",
      "metadata": {
        "id": "12RC-QV3CC6G",
        "colab": {
          "base_uri": "https://localhost:8080/"
        },
        "outputId": "7feb106c-f012-432d-83b3-108d13044fb3"
      },
      "source": [
        "list = [\"a\",\"b\",\"c\"]\n",
        "del list\n",
        "print(list)"
      ],
      "execution_count": null,
      "outputs": [
        {
          "output_type": "stream",
          "text": [
            "<class 'list'>\n"
          ],
          "name": "stdout"
        }
      ]
    },
    {
      "cell_type": "code",
      "metadata": {
        "id": "Lzds20rCCDKk",
        "colab": {
          "base_uri": "https://localhost:8080/"
        },
        "outputId": "40371e0e-e2a8-48df-e5c1-b15c93e83553"
      },
      "source": [
        "list = [\"a\",\"b\",\"c\"]\n",
        "list.clear()\n",
        "print (list)"
      ],
      "execution_count": null,
      "outputs": [
        {
          "output_type": "stream",
          "text": [
            "[]\n"
          ],
          "name": "stdout"
        }
      ]
    },
    {
      "cell_type": "code",
      "metadata": {
        "id": "MCExe7CWCEBG"
      },
      "source": [
        "a = (\"a\",\"c\",\"d\")\n",
        "print(a)"
      ],
      "execution_count": null,
      "outputs": []
    },
    {
      "cell_type": "code",
      "metadata": {
        "id": "exqu0BBWEhVZ"
      },
      "source": [
        "#Once a tuple is created, you cannot add items to it.\n",
        "#Just like the workaround for changing a tuple, you can convert it into a list, add your item(s), and convert it back into a tuple.\n",
        "thistuple = (\"apple\", \"banana\", \"cherry\")\n",
        "y = list(thistuple)\n",
        "y.append(\"orange\")\n",
        "thistuple = tuple(y)"
      ],
      "execution_count": null,
      "outputs": []
    },
    {
      "cell_type": "code",
      "metadata": {
        "id": "VNLf7XRgHSlW",
        "colab": {
          "base_uri": "https://localhost:8080/"
        },
        "outputId": "f3fe9a6e-09fc-483f-dacc-e643d910e3f4"
      },
      "source": [
        "thistuple = (\"a\",)\n",
        "print(thistuple)\n",
        "# ordered, indexed, unchangeble, allow duplicates\n",
        "#To create a tuple with only one item, you have to add a comma after the item, otherwise Python will not recognize it as a tuple."
      ],
      "execution_count": null,
      "outputs": [
        {
          "output_type": "stream",
          "text": [
            "('a', 's', 'x')\n"
          ],
          "name": "stdout"
        }
      ]
    },
    {
      "cell_type": "code",
      "metadata": {
        "id": "KSHvgsFaHTAS",
        "colab": {
          "base_uri": "https://localhost:8080/"
        },
        "outputId": "4edfb77d-b325-48b3-b249-1e136d3a277a"
      },
      "source": [
        "thistuple = (\"a\",\"a\",\"q\") # can't be del or remove single but u can delete all or updated, only accesed\n",
        "print(thistuple[2])        #u can concatenate tuples\n",
        "\n",
        "#count()\tReturns the number of times a specified value occurs in a tuple\n",
        "#index()\tSearches the tuple for a specified value and returns the position of where it was found"
      ],
      "execution_count": null,
      "outputs": [
        {
          "output_type": "stream",
          "text": [
            "q\n"
          ],
          "name": "stdout"
        }
      ]
    },
    {
      "cell_type": "code",
      "metadata": {
        "id": "NEAwxtnkFm1o"
      },
      "source": [
        "#Unpaking\n",
        "fruits = (\"apple\", \"banana\", \"cherry\")\n",
        "\n",
        "(green, yellow, red) = fruits\n",
        "\n",
        "print(green)\n",
        "print(yellow)\n",
        "print(red)\n"
      ],
      "execution_count": null,
      "outputs": []
    },
    {
      "cell_type": "code",
      "metadata": {
        "id": "shI1LHTgFta-"
      },
      "source": [
        "fruits = (\"apple\", \"banana\", \"cherry\", \"strawberry\", \"raspberry\")\n",
        "\n",
        "(green, yellow, *red) = fruits\n",
        "\n",
        "print(green)\n",
        "print(yellow)\n",
        "print(red)\n"
      ],
      "execution_count": null,
      "outputs": []
    },
    {
      "cell_type": "code",
      "metadata": {
        "id": "k20Nlw7wHTVj",
        "colab": {
          "base_uri": "https://localhost:8080/"
        },
        "outputId": "466b0af6-4f49-4f04-9776-1d4299c4423e"
      },
      "source": [
        "tuple = (\"a\",\"x\",\"z\")\n",
        "for tuplee in tuple:\n",
        "  print(tuplee)"
      ],
      "execution_count": null,
      "outputs": [
        {
          "output_type": "stream",
          "text": [
            "a\n",
            "x\n",
            "z\n"
          ],
          "name": "stdout"
        }
      ]
    },
    {
      "cell_type": "code",
      "metadata": {
        "colab": {
          "base_uri": "https://localhost:8080/"
        },
        "id": "ilChZGhacZAJ",
        "outputId": "1238908e-006a-431b-869d-ef6823700d3c"
      },
      "source": [
        "x = {\"apple\", \"banana\", \"cherry\"}\n",
        "y = {\"google\", \"microsoft\", \"apple\"}\n",
        "\n",
        "x.intersection_update(y)\n",
        "\n",
        "print(x)"
      ],
      "execution_count": null,
      "outputs": [
        {
          "output_type": "stream",
          "text": [
            "{'apple'}\n"
          ],
          "name": "stdout"
        }
      ]
    },
    {
      "cell_type": "code",
      "metadata": {
        "colab": {
          "base_uri": "https://localhost:8080/"
        },
        "id": "qKazEfabcc1O",
        "outputId": "fbac975f-6c19-44cd-c8e4-f15cc4deabd3"
      },
      "source": [
        "x = {\"apple\", \"banana\", \"cherry\"}\n",
        "y = {\"google\", \"microsoft\", \"apple\"}\n",
        "\n",
        "z = x.intersection(y)\n",
        "\n",
        "print(z)\n",
        "x.symmetric_difference_update(y)\n",
        "\n",
        "print(x)\n",
        "\n",
        "#https://www.w3schools.com/python/python_sets_methods.asp"
      ],
      "execution_count": null,
      "outputs": [
        {
          "output_type": "stream",
          "text": [
            "{'apple'}\n",
            "{'cherry', 'microsoft', 'google', 'banana'}\n"
          ],
          "name": "stdout"
        }
      ]
    },
    {
      "cell_type": "code",
      "metadata": {
        "id": "IdY3BuvuHTpE",
        "colab": {
          "base_uri": "https://localhost:8080/"
        },
        "outputId": "f4ae4fbc-e801-45de-eed8-86fc08298186"
      },
      "source": [
        "thisset = {\"a\",\"d\",\"d\"}\n",
        "print(\"a\" in thisset)"
      ],
      "execution_count": null,
      "outputs": [
        {
          "output_type": "stream",
          "text": [
            "True\n"
          ],
          "name": "stdout"
        }
      ]
    },
    {
      "cell_type": "code",
      "metadata": {
        "id": "N-hwWbUN7Zso",
        "colab": {
          "base_uri": "https://localhost:8080/"
        },
        "outputId": "cc9714cd-539c-41da-b595-eec0cae76643"
      },
      "source": [
        "stu=[\"ak\",8,\"t\",20,\"pk\",10] #lists used here.\n",
        "print(len(stu))\n",
        "stu={\"ak\":9,\"t\":30,\"pk\":10} #dictonaries used here because its easier to access keys and members (can be deleted, but can't be updated)\n",
        "stu[\"ak\"]\n",
        "print(len(stu))\n",
        "del stu[\"pk\"]\n",
        "\n",
        "print(len(stu))\n"
      ],
      "execution_count": null,
      "outputs": [
        {
          "output_type": "stream",
          "text": [
            "6\n",
            "3\n",
            "2\n"
          ],
          "name": "stdout"
        }
      ]
    },
    {
      "cell_type": "code",
      "metadata": {
        "id": "4EWX72on8f1M",
        "colab": {
          "base_uri": "https://localhost:8080/",
          "height": 35
        },
        "outputId": "2ac9a61b-3382-49d8-c4d6-c23b3736d5f0"
      },
      "source": [
        "tup=(\"tri\")\n",
        "tup*3"
      ],
      "execution_count": null,
      "outputs": [
        {
          "output_type": "execute_result",
          "data": {
            "application/vnd.google.colaboratory.intrinsic+json": {
              "type": "string"
            },
            "text/plain": [
              "'tritritri'"
            ]
          },
          "metadata": {
            "tags": []
          },
          "execution_count": 31
        }
      ]
    },
    {
      "cell_type": "code",
      "metadata": {
        "id": "1r-xY-WsdxaQ"
      },
      "source": [
        "thisdict = {\n",
        "  \"brand\": \"Ford\",\n",
        "  \"model\": \"Mustang\",\n",
        "  \"year\": 1964\n",
        "}\n",
        "thisdict.update({\"year\": 2020})"
      ],
      "execution_count": null,
      "outputs": []
    },
    {
      "cell_type": "code",
      "metadata": {
        "colab": {
          "base_uri": "https://localhost:8080/"
        },
        "id": "-4ILGKGxdv_X",
        "outputId": "1f1f9b74-c1c8-4fa8-89a8-efd37d5c0033"
      },
      "source": [
        "x = thisdict.keys()\n",
        "print(x)\n",
        "x = thisdict.values()\n",
        "print(x)"
      ],
      "execution_count": null,
      "outputs": [
        {
          "output_type": "stream",
          "text": [
            "dict_keys(['brand', 'model', 'year'])\n",
            "dict_values(['Ford', 'Mustang', 1964])\n"
          ],
          "name": "stdout"
        }
      ]
    },
    {
      "cell_type": "code",
      "metadata": {
        "id": "YQh5ioxqBayU",
        "colab": {
          "base_uri": "https://localhost:8080/"
        },
        "outputId": "7798a0f8-bfbe-46f4-80a2-73d568611c39"
      },
      "source": [
        "if 2>3:\n",
        "  print(\"hello\")\n",
        "else :\n",
        "  print(\"not true\")\n",
        "if 5==8:\n",
        "  emoo\n",
        "2==2"
      ],
      "execution_count": null,
      "outputs": [
        {
          "output_type": "stream",
          "text": [
            "not true\n"
          ],
          "name": "stdout"
        },
        {
          "output_type": "execute_result",
          "data": {
            "text/plain": [
              "True"
            ]
          },
          "metadata": {
            "tags": []
          },
          "execution_count": 32
        }
      ]
    },
    {
      "cell_type": "code",
      "metadata": {
        "id": "KzXH36xQClbp",
        "colab": {
          "base_uri": "https://localhost:8080/"
        },
        "outputId": "f7bdd5c2-f960-4bd3-bf4d-4f2689501a9d"
      },
      "source": [
        "s=int(input())\n",
        "if s>10:\n",
        "  print(\"u r young\")\n",
        "elif s<=10 and s>0:\n",
        "  print(\"child\")\n",
        "else:\n",
        "  print(\"pakkakelli adukoomaa\") "
      ],
      "execution_count": null,
      "outputs": [
        {
          "output_type": "stream",
          "text": [
            "23\n",
            "u r young\n"
          ],
          "name": "stdout"
        }
      ]
    },
    {
      "cell_type": "code",
      "metadata": {
        "id": "u5lXhi9lwGtM"
      },
      "source": [
        "mystr = \"banana\"\n",
        "\n",
        "for x in mystr:\n",
        "  print(x)"
      ],
      "execution_count": null,
      "outputs": []
    },
    {
      "cell_type": "code",
      "metadata": {
        "id": "Q3jcndULS7CZ"
      },
      "source": [
        "for a in range(0,10):\n",
        "  print(a)\n"
      ],
      "execution_count": null,
      "outputs": []
    },
    {
      "cell_type": "code",
      "metadata": {
        "id": "zQsJ_5l4Tb2H"
      },
      "source": [
        "for i in range(5,51,5):\n",
        "  print(i)"
      ],
      "execution_count": null,
      "outputs": []
    },
    {
      "cell_type": "code",
      "metadata": {
        "id": "CItzrde7Tz2F"
      },
      "source": [
        "c=0\n",
        "while c<10:\n",
        "   \n",
        "  c=c+1 \n",
        "  if c==5:\n",
        "\n",
        "    continue\n",
        "  elif c==7:\n",
        "     #unless we give this it will enter into infinite condition   \n",
        "    print(c)\n",
        "    break\n"
      ],
      "execution_count": null,
      "outputs": []
    },
    {
      "cell_type": "code",
      "metadata": {
        "id": "cnceH3GXXD2X",
        "colab": {
          "base_uri": "https://localhost:8080/"
        },
        "outputId": "9a49f622-6fd1-4d42-9e8f-78f6694cf342"
      },
      "source": [
        "name=int(input())\n",
        "try:\n",
        "  if name<3:\n",
        "    print('ok')\n",
        "except:\n",
        "  print(\"there  some error check ur code please check\") \n",
        "\n",
        "finally:\n",
        "  print(\"executing done\")"
      ],
      "execution_count": null,
      "outputs": [
        {
          "output_type": "stream",
          "text": [
            "5\n",
            "executing done\n"
          ],
          "name": "stdout"
        }
      ]
    },
    {
      "cell_type": "code",
      "metadata": {
        "id": "61YbpzVuO0kL",
        "colab": {
          "base_uri": "https://localhost:8080/"
        },
        "outputId": "7a61bbbc-637a-42d3-96fe-74cace96879f"
      },
      "source": [
        "def greet(name):\n",
        "  print(\"hai \"+name+\" welcome!\" )\n",
        "def ak():\n",
        "  print(\"he is a great man\")\n",
        "\n",
        "def add(n,m):\n",
        "  return n + m\n",
        "  print(\"program ends at return statement this print won't execute\")\n",
        "c=add(10,20)  \n",
        "\n",
        "greet(\"Anjani\") \n",
        "ak()\n",
        "print(c) \n",
        "                      \n"
      ],
      "execution_count": null,
      "outputs": [
        {
          "output_type": "stream",
          "text": [
            "he is a great man\n",
            "hai Anjani welcome!\n",
            "30\n"
          ],
          "name": "stdout"
        }
      ]
    },
    {
      "cell_type": "code",
      "metadata": {
        "id": "8AR0aQcq3NQ0"
      },
      "source": [
        "#Create an iterator that returns numbers, starting with 1, and each sequence will increase by one (returning 1,2,3,4,5 etc.):\n",
        "\n",
        "class MyNumbers:\n",
        "  def __iter__(self):\n",
        "    self.a = 1\n",
        "    return self\n",
        "\n",
        "  def __next__(self):\n",
        "    x = self.a\n",
        "    self.a += 1\n",
        "    return x\n",
        "\n",
        "myclass= MyNumbers()   # creating the instance of a class (object)\n",
        "myiter=iter(myclass)   # calling that object into myiter using iter\n",
        "\n",
        "print(next(myiter))\n",
        "print(next(myiter))\n",
        "print(next(myiter))\n",
        "print(next(myiter))\n",
        "print(next(myiter))\n",
        "\n",
        "# formuch more explanation vist the \"Python Tutor Website \" then dump the code and observe"
      ],
      "execution_count": null,
      "outputs": []
    },
    {
      "cell_type": "code",
      "metadata": {
        "colab": {
          "base_uri": "https://localhost:8080/"
        },
        "id": "DRiGJyoVvIy7",
        "outputId": "7264d994-b0f5-4e41-9682-fcf8dfb09f6c"
      },
      "source": [
        "# wecan itrerate through Lists,Sets<Tuples,Dict using the Iter and next,   without using the for loop\n",
        "mytuple = (\"apple\", \"banana\", \"cherry\")\n",
        "myit = iter(mytuple)\n",
        "\n",
        "print(next(myit))\n",
        "print(next(myit))\n",
        "print(next(myit))\n"
      ],
      "execution_count": null,
      "outputs": [
        {
          "output_type": "stream",
          "text": [
            "apple\n",
            "banana\n",
            "cherry\n"
          ],
          "name": "stdout"
        }
      ]
    },
    {
      "cell_type": "code",
      "metadata": {
        "id": "W37PZGbQ4TrC"
      },
      "source": [
        "class MyNumbers:\n",
        "  def __iter__(self):\n",
        "    self.a = 1\n",
        "    return self\n",
        "\n",
        "  def __next__(self):\n",
        "    if self.a <= 20:\n",
        "      x = self.a\n",
        "      self.a += 1\n",
        "      return x\n",
        "    else:\n",
        "      raise StopIteration    # StopIteration is used to stop the iteration\n",
        "\n",
        "myclass = MyNumbers()\n",
        "myiter = iter(myclass)\n",
        "\n",
        "for x in myiter:\n",
        "  print(x)\n"
      ],
      "execution_count": null,
      "outputs": []
    },
    {
      "cell_type": "code",
      "metadata": {
        "id": "Kd6rlRqbVvs0",
        "colab": {
          "base_uri": "https://localhost:8080/"
        },
        "outputId": "2788fa94-f018-411a-e4b5-932fe784648d"
      },
      "source": [
        "abs(25)  # output 25\n",
        "\n",
        "abs(-35) #output 35\n",
        "\n",
        "bool(0)     #output false\n",
        "\n",
        "bool(1)    #output true\n",
        "\n",
        "# A variable is only available from inside the region it is created. This is called scope.\n",
        "\n"
      ],
      "execution_count": null,
      "outputs": [
        {
          "output_type": "execute_result",
          "data": {
            "text/plain": [
              "True"
            ]
          },
          "metadata": {
            "tags": []
          },
          "execution_count": 19
        }
      ]
    },
    {
      "cell_type": "code",
      "metadata": {
        "id": "lcoZ4ecL-uY_"
      },
      "source": [
        "def abc(name):\n",
        "  print(\"i'm ok \"+ name)"
      ],
      "execution_count": null,
      "outputs": []
    },
    {
      "cell_type": "code",
      "metadata": {
        "colab": {
          "base_uri": "https://localhost:8080/",
          "height": 316
        },
        "id": "2eUhj_CC--XN",
        "outputId": "88dff599-98d7-4f91-b060-97a23b2adaf1"
      },
      "source": [
        "import module\n",
        "module.abc(\"an\")"
      ],
      "execution_count": null,
      "outputs": [
        {
          "output_type": "error",
          "ename": "ModuleNotFoundError",
          "evalue": "ignored",
          "traceback": [
            "\u001b[0;31m---------------------------------------------------------------------------\u001b[0m",
            "\u001b[0;31mModuleNotFoundError\u001b[0m                       Traceback (most recent call last)",
            "\u001b[0;32m<ipython-input-5-6067ca00a544>\u001b[0m in \u001b[0;36m<module>\u001b[0;34m()\u001b[0m\n\u001b[0;32m----> 1\u001b[0;31m \u001b[0;32mimport\u001b[0m \u001b[0mmodule\u001b[0m\u001b[0;34m\u001b[0m\u001b[0;34m\u001b[0m\u001b[0m\n\u001b[0m\u001b[1;32m      2\u001b[0m \u001b[0mmodule\u001b[0m\u001b[0;34m.\u001b[0m\u001b[0mabc\u001b[0m\u001b[0;34m(\u001b[0m\u001b[0;34mf\"{input()}\"\u001b[0m\u001b[0;34m)\u001b[0m\u001b[0;34m\u001b[0m\u001b[0;34m\u001b[0m\u001b[0m\n",
            "\u001b[0;31mModuleNotFoundError\u001b[0m: No module named 'module'",
            "",
            "\u001b[0;31m---------------------------------------------------------------------------\u001b[0;32m\nNOTE: If your import is failing due to a missing package, you can\nmanually install dependencies using either !pip or !apt.\n\nTo view examples of installing some common dependencies, click the\n\"Open Examples\" button below.\n\u001b[0;31m---------------------------------------------------------------------------\u001b[0m\n"
          ]
        }
      ]
    },
    {
      "cell_type": "code",
      "metadata": {
        "id": "NUVG31iTWvpS",
        "colab": {
          "base_uri": "https://localhost:8080/"
        },
        "outputId": "7b64d576-69d4-4d7b-d7ea-07c54128bfbc"
      },
      "source": [
        "sent=\"hello\"\n",
        "help(sent.upper) #this will also same execute only this nd see\n",
        "help(sent.splitlines) # this is executing"
      ],
      "execution_count": null,
      "outputs": [
        {
          "output_type": "stream",
          "text": [
            "Help on built-in function splitlines:\n",
            "\n",
            "splitlines(keepends=False) method of builtins.str instance\n",
            "    Return a list of the lines in the string, breaking at line boundaries.\n",
            "    \n",
            "    Line breaks are not included in the resulting list unless keepends is given and\n",
            "    true.\n",
            "\n"
          ],
          "name": "stdout"
        }
      ]
    },
    {
      "cell_type": "code",
      "metadata": {
        "id": "qXp5AgZOYor2",
        "colab": {
          "base_uri": "https://localhost:8080/"
        },
        "outputId": "962d2cae-626c-43a5-8717-bcbf159c92de"
      },
      "source": [
        "sent='print(\"NEVER GIVE UP\")' # eval is used to execute the code in the called function\n",
        "eval(sent)\n",
        "eval(\"5+3\")"
      ],
      "execution_count": null,
      "outputs": [
        {
          "output_type": "stream",
          "text": [
            "NEVER GIVE UP\n"
          ],
          "name": "stdout"
        },
        {
          "output_type": "execute_result",
          "data": {
            "text/plain": [
              "8"
            ]
          },
          "metadata": {
            "tags": []
          },
          "execution_count": 22
        }
      ]
    },
    {
      "cell_type": "code",
      "metadata": {
        "id": "6DTEl2VPZoB_",
        "colab": {
          "base_uri": "https://localhost:8080/"
        },
        "outputId": "c909cf83-7187-4199-d267-778a3ace1620"
      },
      "source": [
        "a=1\n",
        "str(a) #output is '1'\n",
        "float(a) #output is 1.0\n",
        "int(a)"
      ],
      "execution_count": null,
      "outputs": [
        {
          "output_type": "execute_result",
          "data": {
            "text/plain": [
              "1"
            ]
          },
          "metadata": {
            "tags": []
          },
          "execution_count": 23
        }
      ]
    },
    {
      "cell_type": "code",
      "metadata": {
        "colab": {
          "base_uri": "https://localhost:8080/"
        },
        "id": "I8msCI_nYNR3",
        "outputId": "408c496c-9082-4fe7-9e58-71ed4bed7885"
      },
      "source": [
        "txt = 'It\\\"hai\\\"s alright.'\n",
        "print(txt) \n",
        "# https://www.w3schools.com/python/python_strings_escape.asp\n",
        "# https://www.w3schools.com/python/python_strings_methods.asp"
      ],
      "execution_count": null,
      "outputs": [
        {
          "output_type": "stream",
          "text": [
            "It\"hai\"s alright.\n"
          ],
          "name": "stdout"
        }
      ]
    },
    {
      "cell_type": "code",
      "metadata": {
        "id": "yweNmECBVP2x"
      },
      "source": [
        "#Nested Dictionaries\n",
        "child1 = {\n",
        "  \"name\" : \"Emil\",\n",
        "  \"year\" : 2004\n",
        "}\n",
        "child2 = {\n",
        "  \"name\" : \"Tobias\",\n",
        "  \"year\" : 2007\n",
        "}\n",
        "child3 = {\n",
        "  \"name\" : \"Linus\",\n",
        "  \"year\" : 2011\n",
        "}\n",
        "\n",
        "myfamily = {\n",
        "  \"child1\" : child1,\n",
        "  \"child2\" : child2,\n",
        "  \"child3\" : child3\n",
        "}\n",
        "\n",
        "print(myfamily)\n",
        "#https://www.w3schools.com/python/python_dictionaries_methods.asp"
      ],
      "execution_count": null,
      "outputs": []
    },
    {
      "cell_type": "code",
      "metadata": {
        "colab": {
          "base_uri": "https://localhost:8080/",
          "height": 52
        },
        "id": "093u2Xi_hpyR",
        "outputId": "be5ae20a-9a12-40fd-8e9d-879db404b91d"
      },
      "source": [
        "s=input()\n",
        "s.capitalize()"
      ],
      "execution_count": null,
      "outputs": [
        {
          "output_type": "stream",
          "text": [
            "asdff\n"
          ],
          "name": "stdout"
        },
        {
          "output_type": "execute_result",
          "data": {
            "application/vnd.google.colaboratory.intrinsic+json": {
              "type": "string"
            },
            "text/plain": [
              "'Asdff'"
            ]
          },
          "metadata": {
            "tags": []
          },
          "execution_count": 19
        }
      ]
    },
    {
      "cell_type": "code",
      "metadata": {
        "id": "GGXBjCbPYlmS"
      },
      "source": [
        "#If the number of arguments we are passing is unknown, add a * before the parameter name:\n",
        "\n",
        "def my_function(*kids):\n",
        "  print(\"The youngest child is \" + kids[2])\n",
        "\n",
        "my_function(\"Emil\", \"Tobias\", \"Linus\")"
      ],
      "execution_count": null,
      "outputs": []
    },
    {
      "cell_type": "code",
      "metadata": {
        "colab": {
          "base_uri": "https://localhost:8080/"
        },
        "id": "RUr99cwcZQb6",
        "outputId": "1ad6b48c-70e8-4297-c5e9-372db64caff5"
      },
      "source": [
        "#You can also send arguments with the key = value syntax.\n",
        "\n",
        "#This way the order of the arguments does not matter.\n",
        "\n",
        "#Example\n",
        "def my_function(child3, child2, child1):   # when we don't know how many key,value arguments are passing then place \"**kwargs\"\n",
        "  print(\"The youngest child is \" + child3)\n",
        "\n",
        "my_function(child1 = \"Emil\", child2 = \"Tobias\", child3 = \"Linus\")\n",
        "\n",
        "\n",
        "def my_function(**kid):\n",
        "  print(\"His last name is \" + kid[\"lname\"])\n",
        "\n",
        "my_function(fname = \"Tobias\", lname = \"Refsnes\")"
      ],
      "execution_count": null,
      "outputs": [
        {
          "output_type": "stream",
          "text": [
            "The youngest child is Linus\n",
            "His last name is Refsnes\n"
          ],
          "name": "stdout"
        }
      ]
    },
    {
      "cell_type": "code",
      "metadata": {
        "id": "-_3mbnf7amLu"
      },
      "source": [
        "x = lambda a, b, c : a + b + c\n",
        "print(x(5, 6, 2))"
      ],
      "execution_count": null,
      "outputs": []
    },
    {
      "cell_type": "code",
      "metadata": {
        "id": "OHWj4mBPbETV",
        "colab": {
          "base_uri": "https://localhost:8080/"
        },
        "outputId": "21e684b2-fb1f-4825-de4b-1463b4065cc2"
      },
      "source": [
        "def myfunc(n):\n",
        "  return lambda a : a * n\n",
        "\n",
        "mydoubler = myfunc(2)\n",
        "mytripler = myfunc(3)\n",
        "\n",
        "print(mydoubler(11))\n",
        "print(mytripler(11))"
      ],
      "execution_count": null,
      "outputs": [
        {
          "output_type": "stream",
          "text": [
            "22\n",
            "33\n"
          ],
          "name": "stdout"
        }
      ]
    },
    {
      "cell_type": "code",
      "metadata": {
        "id": "gJ4Xt6t0Whzx"
      },
      "source": [
        "dir(\"hello\") # dir tells what we can do with hello"
      ],
      "execution_count": null,
      "outputs": []
    },
    {
      "cell_type": "code",
      "metadata": {
        "id": "PsLrHU6vase6",
        "colab": {
          "base_uri": "https://localhost:8080/"
        },
        "outputId": "d86d69fb-bd55-41da-add3-209391038ada"
      },
      "source": [
        "class person:\n",
        "  def getname(abc):  #Objects can also contain methods. Methods in objects are functions that belong to the object.\n",
        "    print(\"anjani kumar\")\n",
        "  def getage(ok):\n",
        "    print(\"21\")\n",
        "p=person()  # declaring object 'p' , #Objects can also contain methods. Methods in objects are functions that belong to the object.\n",
        "p.getname()  #calling method using the object\n",
        "p.getage()\n"
      ],
      "execution_count": null,
      "outputs": [
        {
          "output_type": "stream",
          "text": [
            "anjani kumar\n",
            "21\n"
          ],
          "name": "stdout"
        }
      ]
    },
    {
      "cell_type": "code",
      "metadata": {
        "id": "cmspC-0UelI2",
        "colab": {
          "base_uri": "https://localhost:8080/"
        },
        "outputId": "0a7bc35a-c3fe-43f2-8db6-0bace39fd251"
      },
      "source": [
        "class person:\n",
        "  def __init__(self,name,age):\n",
        "    self.name=name\n",
        "    self.age=age\n",
        "  def getname(self):\n",
        "    print(\"your name is \" + self.name)\n",
        "  def getage(self):\n",
        "    print(\"your age is \" + self.age)\n",
        "p1=person(\"Anjani Kumar\",\"21\")\n",
        "p1.getage()\n",
        "p1.getname()\n",
        "#The self parameter is a reference to the current instance of the class, and is used to access variables that belongs to the class.\n",
        "\n",
        "#It does not have to be named self , you can call it whatever you like, but it has to be the first parameter of any function in the class:"
      ],
      "execution_count": null,
      "outputs": [
        {
          "output_type": "stream",
          "text": [
            "your age is 21\n",
            "your name is Anjani Kumar\n"
          ],
          "name": "stdout"
        }
      ]
    },
    {
      "cell_type": "code",
      "metadata": {
        "id": "w4wOoFIrhk6J",
        "colab": {
          "base_uri": "https://localhost:8080/"
        },
        "outputId": "f01e5c15-42eb-4410-8193-e048f15cd66d"
      },
      "source": [
        "#inheritance--> extensibility and reusability\n",
        "class parent:\n",
        "  def __init__(self):\n",
        "    print(\"this is a parent class\")\n",
        "  def parentfunc(self):\n",
        "    print(\"this is a parent func\")\n",
        "  def test(self):\n",
        "    print(\"parent\")\n",
        "p=parent()\n",
        "p.parentfunc()\n",
        "class child(parent):\n",
        "  def __init__(self):\n",
        "    print(\"this is the child class\")\n",
        "  def childfunc(self):\n",
        "    print(\"this is the child func\")\n",
        "  def test(self):\n",
        "    print(\"child\")\n",
        "\n",
        "c=child()\n",
        "c.test() \n",
        "c.childfunc()\n",
        "c.parentfunc()  "
      ],
      "execution_count": null,
      "outputs": [
        {
          "output_type": "stream",
          "text": [
            "this is a parent class\n",
            "this is a parent func\n",
            "this is the child class\n",
            "child\n",
            "this is the child func\n",
            "this is a parent func\n"
          ],
          "name": "stdout"
        }
      ]
    },
    {
      "cell_type": "code",
      "metadata": {
        "id": "eJdG_t4Pj44l"
      },
      "source": [
        "n=5\n",
        "for i in range(0,n):\n",
        "  print('*',end='')"
      ],
      "execution_count": null,
      "outputs": []
    },
    {
      "cell_type": "code",
      "metadata": {
        "id": "KGvnB14WzlsC"
      },
      "source": [
        " '''n=5\n",
        "for i in range(0,n+1):\n",
        "  print('*'*i,end='') \n",
        "  print() \n",
        "  or follow below'''\n",
        "\n",
        "n=5\n",
        "for i in range(0,n):\n",
        "  for j in range(0,i+1):\n",
        "    print('*',end='')\n",
        "  print ()"
      ],
      "execution_count": null,
      "outputs": []
    },
    {
      "cell_type": "code",
      "metadata": {
        "id": "3-SyrxgG0rO3",
        "colab": {
          "base_uri": "https://localhost:8080/"
        },
        "outputId": "d4a273f3-0c72-487a-f030-41b758fd01f3"
      },
      "source": [
        "a=10\n",
        "b=10.0\n",
        "print(type(b))\n",
        "type(a)"
      ],
      "execution_count": null,
      "outputs": [
        {
          "output_type": "stream",
          "text": [
            "<class 'float'>\n"
          ],
          "name": "stdout"
        },
        {
          "output_type": "execute_result",
          "data": {
            "text/plain": [
              "int"
            ]
          },
          "metadata": {
            "tags": []
          },
          "execution_count": 36
        }
      ]
    },
    {
      "cell_type": "code",
      "metadata": {
        "id": "55W29-t9yzsN",
        "colab": {
          "base_uri": "https://localhost:8080/",
          "height": 69
        },
        "outputId": "1a112e06-01a9-48d5-b568-dd4e27dbc3f4"
      },
      "source": [
        "print(hex(37)) #to convert a number into hex\n",
        "print(oct(63)) #to converta number into octl\n",
        "bin(43)         #to convert a number into binary"
      ],
      "execution_count": null,
      "outputs": [
        {
          "output_type": "stream",
          "text": [
            "0x25\n",
            "0o77\n"
          ],
          "name": "stdout"
        },
        {
          "output_type": "execute_result",
          "data": {
            "application/vnd.google.colaboratory.intrinsic+json": {
              "type": "string"
            },
            "text/plain": [
              "'0b101011'"
            ]
          },
          "metadata": {
            "tags": []
          },
          "execution_count": 37
        }
      ]
    },
    {
      "cell_type": "code",
      "metadata": {
        "id": "RHK9ksuH5u7V",
        "colab": {
          "base_uri": "https://localhost:8080/"
        },
        "outputId": "8bf6e92f-4263-458a-9742-c424fc6a6eb2"
      },
      "source": [
        "print(0x25)\n",
        "print(0o77)  #--> it'll take upto 7 only if we give >=8 throws an error like: 0o85 and 0o95\n",
        "0b101011 #--> it should be given in the binary format only"
      ],
      "execution_count": null,
      "outputs": [
        {
          "output_type": "stream",
          "text": [
            "37\n",
            "63\n"
          ],
          "name": "stdout"
        },
        {
          "output_type": "execute_result",
          "data": {
            "text/plain": [
              "43"
            ]
          },
          "metadata": {
            "tags": []
          },
          "execution_count": 38
        }
      ]
    },
    {
      "cell_type": "code",
      "metadata": {
        "id": "ckeV8O6V8VWI",
        "colab": {
          "base_uri": "https://localhost:8080/"
        },
        "outputId": "b2cb0346-19d2-421e-c198-d727090ba7fd"
      },
      "source": [
        "print(complex(10,-3))\n",
        "a=10\n",
        "print(complex(a))\n",
        "b=1\n",
        "print(bool(4))  # other than 0 all will return True\n",
        "c=0\n",
        "print(bool(c))\n",
        "print(bool(True))\n",
        "print(bool(False))"
      ],
      "execution_count": null,
      "outputs": [
        {
          "output_type": "stream",
          "text": [
            "(10-3j)\n",
            "(10+0j)\n",
            "True\n",
            "False\n",
            "True\n",
            "False\n"
          ],
          "name": "stdout"
        }
      ]
    },
    {
      "cell_type": "code",
      "metadata": {
        "id": "YNVe2AEH-f9C",
        "colab": {
          "base_uri": "https://localhost:8080/"
        },
        "outputId": "b6677172-511d-4507-9451-97194217693e"
      },
      "source": [
        "print(int(10))\n",
        "print(int(10.0))\n",
        "print(float(10))\n",
        "print(float('10'))\n",
        "print(int(True))"
      ],
      "execution_count": null,
      "outputs": [
        {
          "output_type": "stream",
          "text": [
            "10\n",
            "10\n",
            "10.0\n",
            "10.0\n",
            "1\n"
          ],
          "name": "stdout"
        }
      ]
    },
    {
      "cell_type": "code",
      "metadata": {
        "id": "GtxFrjAD_iLo",
        "colab": {
          "base_uri": "https://localhost:8080/"
        },
        "outputId": "dc5fb19e-f09c-45a8-9d2e-d9a6cd9af295"
      },
      "source": [
        "n=int(input('enter the n value'))\n",
        "for i in range(1,n+1):\n",
        "  print('*'*(n+1-i))"
      ],
      "execution_count": null,
      "outputs": [
        {
          "output_type": "stream",
          "text": [
            "enter the n value5\n",
            "*****\n",
            "****\n",
            "***\n",
            "**\n",
            "*\n"
          ],
          "name": "stdout"
        }
      ]
    },
    {
      "cell_type": "code",
      "metadata": {
        "id": "1gjGL2iJBvli",
        "colab": {
          "base_uri": "https://localhost:8080/"
        },
        "outputId": "34cd4008-78b1-402a-bee5-f7a214ddb2d9"
      },
      "source": [
        "n=int(input('enter the n value'))\n",
        "for i in range(1,n+1):\n",
        "  print(' '*(n-i)+'* '*i)"
      ],
      "execution_count": null,
      "outputs": [
        {
          "output_type": "stream",
          "text": [
            "enter the n value5\n",
            "    * \n",
            "   * * \n",
            "  * * * \n",
            " * * * * \n",
            "* * * * * \n"
          ],
          "name": "stdout"
        }
      ]
    },
    {
      "cell_type": "code",
      "metadata": {
        "id": "hoFw5Yn0DbPS",
        "colab": {
          "base_uri": "https://localhost:8080/"
        },
        "outputId": "3fd12b90-488a-4fb2-966a-c41986608b1b"
      },
      "source": [
        "n=5\n",
        "for i in range(1,n+1):\n",
        "  for j in range(1,n+1-i):\n",
        "    print(' ',end='')\n",
        "  for j in range(1,i+1):\n",
        "    print(j,end='')\n",
        "  print()"
      ],
      "execution_count": null,
      "outputs": [
        {
          "output_type": "stream",
          "text": [
            "    1\n",
            "   12\n",
            "  123\n",
            " 1234\n",
            "12345\n"
          ],
          "name": "stdout"
        }
      ]
    },
    {
      "cell_type": "code",
      "metadata": {
        "id": "lVjD80-cISZg",
        "colab": {
          "base_uri": "https://localhost:8080/"
        },
        "outputId": "85a25297-590a-4248-be50-1a60728ef7df"
      },
      "source": [
        "n=5\n",
        "for i in range(1,n+1):\n",
        "  print(\" \"*(i-1),'*'*(n+1-i))"
      ],
      "execution_count": null,
      "outputs": [
        {
          "output_type": "stream",
          "text": [
            " *****\n",
            "  ****\n",
            "   ***\n",
            "    **\n",
            "     *\n"
          ],
          "name": "stdout"
        }
      ]
    },
    {
      "cell_type": "code",
      "metadata": {
        "id": "u0OyafwWJign",
        "colab": {
          "base_uri": "https://localhost:8080/"
        },
        "outputId": "329a57ea-1fb8-466b-d012-0caf733e4124"
      },
      "source": [
        "n=5\n",
        "for i in range(1,n+1):\n",
        "  print('*'*(n+1-i),end='')\n",
        "  print(' '*(2*(i-1)),end='')\n",
        "  print('*'*(n+1-i))\n",
        "        #OR\n",
        " #print('*'*(n+1-i)+' '*(2*(i-1))+'*'*(n+1-i))    \n",
        "for i in range(1,n+1):\n",
        "  print(\"*\"*(i),end='')\n",
        "  print(\" \"*(2*(n-i)),end='')  \n",
        "  print(\"*\"*(i))\n",
        "        #OR\n",
        "  #print(\"*\"*(i)+\" \"*(2*(n-i))+\"*\"*(i))"
      ],
      "execution_count": null,
      "outputs": [
        {
          "output_type": "stream",
          "text": [
            "**********\n",
            "****  ****\n",
            "***    ***\n",
            "**      **\n",
            "*        *\n",
            "*        *\n",
            "**      **\n",
            "***    ***\n",
            "****  ****\n",
            "**********\n"
          ],
          "name": "stdout"
        }
      ]
    },
    {
      "cell_type": "code",
      "metadata": {
        "id": "bHV7JdamLJ1D",
        "colab": {
          "base_uri": "https://localhost:8080/"
        },
        "outputId": "c7f00983-a6bc-4072-801a-8f6892c11535"
      },
      "source": [
        "n=5\n",
        "for i in range(1,n+1):\n",
        "  for j in range(1,n+1-i):\n",
        "    print(' ',end='')\n",
        "  for j in range(1,2*i):\n",
        "    print(j,end='')\n",
        "  print()"
      ],
      "execution_count": null,
      "outputs": [
        {
          "output_type": "stream",
          "text": [
            "    1\n",
            "   123\n",
            "  12345\n",
            " 1234567\n",
            "123456789\n"
          ],
          "name": "stdout"
        }
      ]
    },
    {
      "cell_type": "code",
      "metadata": {
        "colab": {
          "base_uri": "https://localhost:8080/"
        },
        "id": "uGVP56e0YRxj",
        "outputId": "5e0f0abe-6196-47c7-9cd9-69478f73fa7d"
      },
      "source": [
        "n=5\n",
        "s=''\n",
        "for i in range(1,n+1):\n",
        "  s=s+str(i)\n",
        "for i in range(n):\n",
        "  d=''\n",
        "  if i==0:\n",
        "    #print(s)\n",
        "    print(s[::-1])\n",
        "  else:\n",
        "    d=s[i:]\n",
        "    print(i*\" \"+d[::-1])\n",
        "    #print(i*\" \"+d)"
      ],
      "execution_count": null,
      "outputs": [
        {
          "output_type": "stream",
          "text": [
            "54321\n",
            " 5432\n",
            "  543\n",
            "   54\n",
            "    5\n"
          ],
          "name": "stdout"
        }
      ]
    },
    {
      "cell_type": "code",
      "metadata": {
        "colab": {
          "base_uri": "https://localhost:8080/"
        },
        "id": "Bf0Vjr-sVAUl",
        "outputId": "e5de4630-0fd5-4995-a62d-4e2a4b956d3e"
      },
      "source": [
        "n=int(input())\n",
        "for i in range(1,n+1):\n",
        "  k=i\n",
        "  for j in range(i):\n",
        "    print(k,end='')\n",
        "    k=k+1\n",
        "  print()"
      ],
      "execution_count": null,
      "outputs": [
        {
          "output_type": "stream",
          "text": [
            "5\n",
            "1\n",
            "23\n",
            "345\n",
            "4567\n",
            "56789\n"
          ],
          "name": "stdout"
        }
      ]
    },
    {
      "cell_type": "code",
      "metadata": {
        "id": "4DL0smP-m8xr",
        "colab": {
          "base_uri": "https://localhost:8080/"
        },
        "outputId": "64d10fa4-5ec6-4297-8629-ef86eb8974a8"
      },
      "source": [
        "n=5\n",
        "for i in range (1,n+1):\n",
        "  for j in range(1,i):\n",
        "    print(' ',end='') \n",
        "  for j in range(1,n+1-i):\n",
        "    print(' ',j,end='')\n",
        "  print()\n",
        "\n",
        "n=6\n",
        "for i in range(1,n+1):\n",
        "  for j in range(1,i):\n",
        "    print(' ',end='')\n",
        "  for j in range(2*n-1,2*i,-1):\n",
        "    print('*',end='')\n",
        "  print()\n",
        " "
      ],
      "execution_count": null,
      "outputs": [
        {
          "output_type": "stream",
          "text": [
            "  1  2  3  4\n",
            "   1  2  3\n",
            "    1  2\n",
            "     1\n",
            "    \n",
            "*********\n",
            " *******\n",
            "  *****\n",
            "   ***\n",
            "    *\n",
            "     \n"
          ],
          "name": "stdout"
        }
      ]
    },
    {
      "cell_type": "code",
      "metadata": {
        "id": "v2eZAE2BsPw5",
        "colab": {
          "base_uri": "https://localhost:8080/"
        },
        "outputId": "d5ae814e-51c5-475c-af67-a2a52d8b75d9"
      },
      "source": [
        "s=input('enter a sting')\n",
        "for i in range(0,len(s)):\n",
        "  for j in range(0,i+1):\n",
        "    print(s[j],end='')\n",
        "  print()"
      ],
      "execution_count": null,
      "outputs": [
        {
          "output_type": "stream",
          "text": [
            "enter a stingabcdefgh\n",
            "a\n",
            "ab\n",
            "abc\n",
            "abcd\n",
            "abcde\n",
            "abcdef\n",
            "abcdefg\n",
            "abcdefgh\n"
          ],
          "name": "stdout"
        }
      ]
    },
    {
      "cell_type": "code",
      "metadata": {
        "id": "1fnD2frKtOJK"
      },
      "source": [
        "s=input('enter a string')\n",
        "for i in range(0,len(s)):\n",
        "  for j in range(0,len(s)-i):\n",
        "    print(s[j],end='')\n",
        "  print()"
      ],
      "execution_count": null,
      "outputs": []
    },
    {
      "cell_type": "code",
      "metadata": {
        "id": "_sMfaHR2uVNS"
      },
      "source": [
        "n=15\n",
        "for i in range(0,n+1):\n",
        "  if i%3==0 and i%5==0:\n",
        "    print('fizz')\n",
        "  elif i%5==0 and i%3!=0:\n",
        "    print('buzz')\n",
        "  elif i%3==0 and i%5==0:\n",
        "    print('fizz buzz')\n",
        "  else:\n",
        "    print(i)"
      ],
      "execution_count": null,
      "outputs": []
    },
    {
      "cell_type": "code",
      "metadata": {
        "id": "kQ_ryJrcvQJb"
      },
      "source": [
        "#adding of numbers in a list\n",
        "s=0\n",
        "l=list(map(int,input().split(',')))\n",
        "for i in l:\n",
        "  s=s+i\n",
        "print(s)                                                                                            "
      ],
      "execution_count": null,
      "outputs": []
    },
    {
      "cell_type": "code",
      "metadata": {
        "id": "2phZ3613yBTf",
        "colab": {
          "base_uri": "https://localhost:8080/"
        },
        "outputId": "e9e16936-f7c0-40c5-8c3c-ea1ad880ce72"
      },
      "source": [
        "n=5            #this code is used for summing of given numbers\n",
        "l=[]\n",
        "sum1=0\n",
        "for i in range(1,n+1):\n",
        "  l.append(int(input()))\n",
        "print(l)\n",
        "for i in l:\n",
        "  sum1=sum1+i\n",
        "print(sum1)"
      ],
      "execution_count": null,
      "outputs": [
        {
          "output_type": "stream",
          "text": [
            "1\n",
            "2\n",
            "3\n",
            "4\n",
            "5\n",
            "[1, 2, 3, 4, 5]\n",
            "15\n"
          ],
          "name": "stdout"
        }
      ]
    },
    {
      "cell_type": "code",
      "metadata": {
        "id": "Xpyuerva2lpS"
      },
      "source": [
        "#biggest value among three given numbers\n",
        "a,b,c=map(int,input().split(','))\n",
        "if a>b and a>c:\n",
        "  print('biggest val a',a)\n",
        "elif b>c:\n",
        "  print('big is b',b)\n",
        "else :\n",
        "  print('c is big',c)"
      ],
      "execution_count": null,
      "outputs": []
    },
    {
      "cell_type": "code",
      "metadata": {
        "id": "ao-RLHNs3ZPA",
        "colab": {
          "base_uri": "https://localhost:8080/"
        },
        "outputId": "03bf03cf-4efe-4d22-c0aa-0d430303b498"
      },
      "source": [
        "# printing of table\n",
        "n=int(input())\n",
        "for i in range(1,11):\n",
        "  print(n,'*',i,'=',n*i)"
      ],
      "execution_count": null,
      "outputs": [
        {
          "output_type": "stream",
          "text": [
            "5 * 1 = 5\n",
            "5 * 2 = 10\n",
            "5 * 3 = 15\n",
            "5 * 4 = 20\n",
            "5 * 5 = 25\n",
            "5 * 6 = 30\n",
            "5 * 7 = 35\n",
            "5 * 8 = 40\n",
            "5 * 9 = 45\n",
            "5 * 10 = 50\n"
          ],
          "name": "stdout"
        }
      ]
    },
    {
      "cell_type": "code",
      "metadata": {
        "id": "c7ioXP0l4Eny"
      },
      "source": [
        "#leap year\n",
        "year=int(input('enter year'))\n",
        "if year%400==0 and year%4==0:\n",
        "  print('leap')\n",
        "elif year%100!=0:\n",
        "  print('leap')\n",
        "else:\n",
        "  print('non leap') \n"
      ],
      "execution_count": null,
      "outputs": []
    },
    {
      "cell_type": "code",
      "metadata": {
        "id": "Cwb9kOlE5ZAY"
      },
      "source": [
        "y=int(input())\n",
        "if y%4==0:\n",
        "  print('leap')\n",
        "else:\n",
        "  print('not leap')"
      ],
      "execution_count": null,
      "outputs": []
    },
    {
      "cell_type": "code",
      "metadata": {
        "id": "4BPicBBr8OCK"
      },
      "source": [
        "# Reversing the words in a sentence\n",
        "s='i love india'\n",
        "l=s.split()          #this split is used to take the word as a one unit\n",
        "k=len(l)\n",
        "while k>0:\n",
        "  print(l[k-1],end=' ')\n",
        "  k=k-1\n",
        "\n",
        "  #or\n",
        "s=input()\n",
        "ws=s.split()\n",
        "for w in range(len(ws)):\n",
        "  print(ws[len(ws)-w-1],\" \",end='')"
      ],
      "execution_count": null,
      "outputs": []
    },
    {
      "cell_type": "code",
      "metadata": {
        "id": "pCL30cuX8r2B",
        "colab": {
          "base_uri": "https://localhost:8080/"
        },
        "outputId": "2660c237-355d-4859-a845-900efbe79525"
      },
      "source": [
        "# Reversing the words and also the letters in a sentence\n",
        "s=str(input('enter a string'))\n",
        "k=len(s)\n",
        "while k>0:\n",
        "  print(s[k-1][::-1],end='')\n",
        "  k=k-1"
      ],
      "execution_count": null,
      "outputs": [
        {
          "output_type": "stream",
          "text": [
            "enter a stringi love my india\n",
            "aidni ym evol i"
          ],
          "name": "stdout"
        }
      ]
    },
    {
      "cell_type": "code",
      "metadata": {
        "id": "DQwKjErz_Uce"
      },
      "source": [
        "import keyword\n",
        "s='i love india123 45'\n",
        "l1=[]\n",
        "l2=[]\n",
        "for i in s:\n",
        "  if i isdigit:\n",
        "    l1.append(i)\n",
        "  else :\n",
        "    l2.append(i)\n",
        "for i in l1:\n",
        "  print(i,end='')\n",
        "print()\n",
        "for j in l2:\n",
        "  print(j,end='')"
      ],
      "execution_count": null,
      "outputs": []
    },
    {
      "cell_type": "code",
      "metadata": {
        "id": "569bSG9m3Rgl"
      },
      "source": [
        "class student:\n",
        "  def __init__self(self):\n",
        "    self.name='anjani'\n",
        "    self.marks=100\n",
        "  def about(self):\n",
        "    print('name:',self.name)\n",
        "    print('marks:',self.marks)\n",
        "s=student()\n",
        "s.about()"
      ],
      "execution_count": null,
      "outputs": []
    },
    {
      "cell_type": "code",
      "metadata": {
        "id": "zfo36iB19lWO"
      },
      "source": [
        "class test:\n",
        "  def __init__(self):\n",
        "    self.a=10\n",
        "    self.b=20\n",
        "  def method1(self):\n",
        "    res=self.a+self.b\n",
        "    print('result:',res)\n",
        "t=test()\n",
        "t.method1()"
      ],
      "execution_count": null,
      "outputs": []
    },
    {
      "cell_type": "code",
      "metadata": {
        "id": "0ZNxlOoM-C6g"
      },
      "source": [
        "class test:\n",
        "  def __init__(self,x,y):\n",
        "    self.val1=x\n",
        "    self.val2=y\n",
        "  def method1(self):\n",
        "    res=self.val1+self.val2\n",
        "    print('res:',res)\n",
        "a=int(input('enter x value:'))\n",
        "b=int(input('enter y val:'))\n",
        "t=test(a,b)\n",
        "t.method1()"
      ],
      "execution_count": null,
      "outputs": []
    },
    {
      "cell_type": "code",
      "metadata": {
        "id": "1GWd7iSM--Ss"
      },
      "source": [
        "class test:\n",
        "  def __init__(self,x,y):\n",
        "    self.val1=x\n",
        "    self.val2=y\n",
        "  def method1(self):\n",
        "    self.val3=30\n",
        "a=int(input('enter x value'))\n",
        "b=int(input('enter y val'))\n",
        "t=test(a,b)\n",
        "t.method1()\n",
        "print(t.__dict__)"
      ],
      "execution_count": null,
      "outputs": []
    },
    {
      "cell_type": "code",
      "metadata": {
        "id": "KMjT9LJfVamg"
      },
      "source": [
        "#program to read nd print list values, list func\n",
        "l=set(map(int,input().split()))   #if dict is used it can't be updated so thrws error when it created it initialized with 0, if we insert some values to it we can't update\n",
        "print(l) "
      ],
      "execution_count": null,
      "outputs": []
    },
    {
      "cell_type": "code",
      "metadata": {
        "id": "-9LVaUSUWro7"
      },
      "source": [
        "#pgm 2 print altrnate ele in list\n",
        "l=list(map(int,input().split()))\n",
        "for i in range(len(l)):\n",
        "  if i%2!=0:\n",
        "    print(l[i],end='')"
      ],
      "execution_count": null,
      "outputs": []
    },
    {
      "cell_type": "code",
      "metadata": {
        "id": "qe1mpv5oXxdB"
      },
      "source": [
        "#write a program 2 incremt eachnd every value by one\n",
        "l=list(map(int,input().split()))\n",
        "for i in range(len(l)):\n",
        "  print(l[i]+1,end='')"
      ],
      "execution_count": null,
      "outputs": []
    },
    {
      "cell_type": "code",
      "metadata": {
        "id": "KAcJiUcZYTtJ"
      },
      "source": [
        "#write a program to print count the -ve val\n",
        "l=list(map(int,input().split()))\n",
        "count=0\n",
        "for i in range(len(l)):\n",
        "  if l[i]<0:\n",
        "    count=count+1\n",
        "print(count)"
      ],
      "execution_count": null,
      "outputs": []
    },
    {
      "cell_type": "code",
      "metadata": {
        "id": "lU_eMdPNZThj"
      },
      "source": [
        "#write a program to print missing val in list\n",
        "l=list(map(int,input().split()))\n",
        "n=len(l)+1\n",
        "s=n*(n+1)//2 #15\n",
        "print(s-sum(l)) #15-14"
      ],
      "execution_count": null,
      "outputs": []
    },
    {
      "cell_type": "code",
      "metadata": {
        "id": "KiqpmcM2bki2"
      },
      "source": [
        "#n numb occurinng odd no, of times\n",
        "l=list(map(int,input().split()))\n",
        "res=0                                     # not understand question for me\n",
        "for i in l:\n",
        "  res=res^i\n",
        "print(res)"
      ],
      "execution_count": null,
      "outputs": []
    },
    {
      "cell_type": "code",
      "metadata": {
        "id": "_8cFrkLdcls8"
      },
      "source": [
        "#write a pgm 2 pnt equvivalent from list\n",
        "l=list(map(int,input().split()))\n",
        "for i in l:\n",
        "  if i%2==0:\n",
        "    print(i,end='')\n"
      ],
      "execution_count": null,
      "outputs": []
    },
    {
      "cell_type": "code",
      "metadata": {
        "id": "QFzyhNiUdhQw"
      },
      "source": [
        "#write a pgm 2 segregate ordered even values in list\n",
        "l=list(map(int,input().split()))\n",
        "j=0\n",
        "for i in range(len(l)):\n",
        "  if l[i]%2!=0:\n",
        "    temp=l[i]\n",
        "    l[i]=l[j]\n",
        "    l[j]=temp\n",
        "    j+=1\n",
        "print(l)"
      ],
      "execution_count": null,
      "outputs": []
    },
    {
      "cell_type": "code",
      "metadata": {
        "id": "fX_yCjyoeZZz"
      },
      "source": [
        "#write a pgm 2 print leaders of alist\n",
        "l=list(map(int,input().split()))\n",
        "print(l[-1],end='')\n",
        "mx=l[-1]\n",
        "for i in range(len(l)-2,-1,-1):\n",
        "  if l[i]>mx:\n",
        "    mx=l[i]\n",
        "    print(l[i],end='')"
      ],
      "execution_count": null,
      "outputs": []
    },
    {
      "cell_type": "code",
      "metadata": {
        "id": "rSvHi4IQCJvO"
      },
      "source": [
        "for i in range(1,5):\n",
        "  for j in range(1,5):\n",
        "    if i==1 or j==1 or i==4 or j==4:\n",
        "      print(\"*\",end='')\n",
        "    else:\n",
        "      print(\" \",end='')\n",
        "  print()\n",
        "\n",
        "for i in range(1,6):\n",
        "  for j in range(1,6):\n",
        "    if j%2==0:\n",
        "      print('1',end='')\n",
        "    else:\n",
        "      print('0',end='')\n",
        "  print()\n",
        "\n",
        "r,c=map(int,input().split())\n",
        "count=0\n",
        "for i in range(1,r+1):\n",
        "  for j in range(1,c+1):\n",
        "    if i==(r+1)//2 or j==(c+1)//2:    # if j==1 or j==c or i==j or i+j==r+1:   #if i==j or i+j==r+1:  #if count%2==0:\n",
        "      print('*',end='')\n",
        "    else:\n",
        "      print(' ',end='')\n",
        "    count=1\n",
        "  print()"
      ],
      "execution_count": null,
      "outputs": []
    },
    {
      "cell_type": "code",
      "metadata": {
        "id": "GoJq7fHxKOCh"
      },
      "source": [
        "r,c=map(int,input().split())\n",
        "for i in range(1,r+1):\n",
        "  for j in range(1,c+1):\n",
        "    if (i==1 or i==r) and (j==1 or j==c):\n",
        "      print(' ',end='')\n",
        "    elif i==1 or i==j or i+j==c+1 or j==1 or i==r or j==c:\n",
        "      print('1',end='')\n",
        "    else:\n",
        "       print(' ',end='')\n",
        "  print()"
      ],
      "execution_count": null,
      "outputs": []
    },
    {
      "cell_type": "code",
      "metadata": {
        "id": "-foIEUMJNbS5"
      },
      "source": [
        "r,c=map(int,input().split())\n",
        "for i in range(1,r+1):\n",
        "  count=i\n",
        "  for j in range(1,c+1):\n",
        "    print(count,end='')\n",
        "    count+=1\n",
        "  print()\n",
        "\n",
        "r,c=map(int,input().split())\n",
        "for i in range(1,(r//2)+2):\n",
        "  for j in range(1,c+1):\n",
        "    if i==j or i+j==r+1:\n",
        "      print(i,end='')\n",
        "    else:\n",
        "      print(' ',end='')\n",
        "  print()\n",
        "for i in range((r//2),0,-1):\n",
        "  for j in range(1,c+1):\n",
        "    if i==j or i+j==r+1:\n",
        "      print(i,end='')\n",
        "    else:\n",
        "      print(' ',end='') \n",
        "  print() "
      ],
      "execution_count": null,
      "outputs": []
    },
    {
      "cell_type": "code",
      "metadata": {
        "id": "Q_yYaafFkzl_"
      },
      "source": [
        "#pgm to print min no of deletions to make arary equ\n",
        "l=[4,4,3,2,4]\n",
        "mx=0\n",
        "for i in range(len(l)):\n",
        "  if l.count(l[i])>mx:\n",
        "   # print(l.count(l[i]))\n",
        "    mx=l.count(l[i])\n",
        "print(len(l)-mx)"
      ],
      "execution_count": null,
      "outputs": []
    },
    {
      "cell_type": "code",
      "metadata": {
        "id": "MSPZ2y5GncMl"
      },
      "source": [
        "l=[4,2,3,5,6,7]\n",
        "d={}\n",
        "for i in range(len(l)):\n",
        "  if l[i] not in d.keys():\n",
        "    d[l[i]]=1\n",
        "  else:\n",
        "    d[l[i]]+=1\n",
        "mx=0\n",
        "for i,j in d.items():\n",
        "  mx=max(mx,j)\n",
        "print(len(l)-mx)\n",
        "\n",
        "# pgm to count frequncy of numbers\n",
        "\n",
        "\n",
        "\n",
        "l=[4,2,3,4,4,4]\n",
        "d={}\n",
        "for i in range(len(l)):\n",
        "  if l[i] not in d.keys():\n",
        "    d[l[i]]=1\n",
        "  else:\n",
        "    d[l[i]]+=1\n",
        "for i,j in d.items():\n",
        "  print(i,j)\n",
        "\n",
        "#printing of distinct values in list\n",
        "\n",
        "'''for i,j in d.items():\n",
        "  if j>=1:\n",
        "    print(i,end='')'''\n",
        "\n",
        "#printing unique values in list\n",
        "\n",
        "'''for i,j in d.items():\n",
        "  if j==1:\n",
        "    print(i,end='')'''\n",
        "#printing duplicate values in list\n",
        "'''for i,j in d.items():\n",
        "     if j>1:\n",
        "       print(i,end='')'''\n",
        "\n",
        "#pgm to count frq of characters\n",
        "s=input()\n",
        "freq=[0]*256\n",
        "for i in s:\n",
        "  freq[ord(i)]+=1\n",
        "for i in range(256):\n",
        "  if freq[i]!=0:\n",
        "    print(chr(i),freq[i])"
      ],
      "execution_count": null,
      "outputs": []
    },
    {
      "cell_type": "code",
      "metadata": {
        "id": "AM1YIWGEowL-"
      },
      "source": [
        "#rotation of values\n",
        "l=[1,2,3,4,5]\n",
        "r=int(input())\n",
        "if r==0:\n",
        "  print(l)\n",
        "r=r%len(l)\n",
        "print(r)\n",
        "print(l[r:]+l[:r])\n",
        "\n",
        "#pgm 2 print min no. of sorts req for array\n",
        "def minswaps(arr,n):\n",
        "  temp=arr.copy()\n",
        "  temp.sort()\n",
        "  count=0\n",
        "  for i in range(len(arr)):\n",
        "    if arr[i]!=temp[i]:\n",
        "      count+=1\n",
        "      swap(arr,i,arr.index(temp[i]))\n",
        "  return count\n",
        "def swap(arr,i,j):\n",
        "  temp=arr[i]\n",
        "  arr[i]=arr[j]\n",
        "  arr[j]=temp\n",
        "l=[5,1,6,8,4]\n",
        "n=len(l)\n",
        "print(minswaps(l,n))"
      ],
      "execution_count": null,
      "outputs": []
    },
    {
      "cell_type": "code",
      "metadata": {
        "id": "wp4z1GI9bukS"
      },
      "source": [
        "#pgm to print last occurance of ele index\n",
        "l=[4,5,2,5,2,4]\n",
        "ele=int(input())\n",
        "index=-1\n",
        "for i in range(len(l)):\n",
        "  if l[i]==ele:\n",
        "    index=i\n",
        "print(index)\n",
        "'''\n",
        "#pgm 2 print separate 0's and nonzeros\n",
        "l1=[]\n",
        "l2=[]\n",
        "l=[1,0,2,0,3,0]\n",
        "for i in range(len(l)):\n",
        "  if l[i]==0:\n",
        "    l1.append=l[i]\n",
        "  else:                               # there wan an error in this program\n",
        "    l2.append=l[i]\n",
        "print(l1+l2)\n",
        "'''     #or\n",
        "l=[1,0,1,0,1,2,1,0]\n",
        "j=0\n",
        "for i in range(len(l)):\n",
        "  if l[i]!=0:\n",
        "    l[j]=l[i]\n",
        "    j+=1\n",
        "for i in range(j,len(l)):\n",
        "  l[i]=0\n",
        "print(l)"
      ],
      "execution_count": null,
      "outputs": []
    },
    {
      "cell_type": "code",
      "metadata": {
        "id": "d2VUTPkpfuqF"
      },
      "source": [
        "#pgm 2 print last ocuurance of a number\n",
        "l=[4,5,2,3,5,4]\n",
        "ele=int(input())\n",
        "index=-1\n",
        "for i in range(len(l)):\n",
        "  if l[i]==ele:\n",
        "    index=i\n",
        "print(index)\n",
        "\n",
        "#write a pgm to prnt maxima contagous separta sum\n",
        "import sys\n",
        "l=[-3,-2,-32767]\n",
        "mx=-sys.maxsize-1\n",
        "s=0\n",
        "for i in range(len(l)):\n",
        "  s+=l[i]\n",
        "  if mx<s:\n",
        "    mx=s\n",
        "  if s<0:\n",
        "    s=0\n",
        "print(mx)\n",
        "\n",
        "# pgm 2 print a value formed by summing of other givven numbers\n",
        "l=[9,4,20,3,10,5]\n",
        "k=23\n",
        "count=0                                 # this program is used to check and add in sequential form only\n",
        "for i in range(len(l)):\n",
        "  s=0\n",
        "  for j in range(i,len(l)):\n",
        "    s+=l[j]\n",
        "    if s==k:\n",
        "      count+=1\n",
        "print(count)\n",
        "\n",
        "# pgm to add every digit in a list\n",
        "l=[25,3,42]\n",
        "for i in range(len(l)):\n",
        "  s=0\n",
        "  while l[i]:\n",
        "    s+=l[i]%10\n",
        "    l[i]=l[i]//10\n",
        "  print(s,end='')\n",
        "\n",
        "#print max val of 2-D array\n",
        "print()\n",
        "l=[[4,6,5],[9,6,2],[56,20,199]]\n",
        "mx=l[0][0]\n",
        "for i in range(len(l)):\n",
        "  for j in range(len(l[i])):\n",
        "    if l[i][j]>mx:\n",
        "      mx=l[i][j]\n",
        "  print(mx)"
      ],
      "execution_count": null,
      "outputs": []
    },
    {
      "cell_type": "code",
      "metadata": {
        "id": "xWS1c2UsfJi-"
      },
      "source": [
        "#pgm to print row no. having max no. of zeros\n",
        "l=[[1,1,1,1],[1,0,1,0,1],[1,0,0,0]]\n",
        "mx=0\n",
        "count=0\n",
        "for i in range(len(l)):\n",
        "  for j in range(len(l[i])):\n",
        "    if l[i][j]==0:\n",
        "      count+=1\n",
        "    if count>mx:\n",
        "      mx=count\n",
        "      row=i+1\n",
        "print(row)\n",
        "\n",
        "#pgm 2 check wheter the 2 matrices are identical or not\n",
        "l1=[[1,2,3],[4,5,6]]\n",
        "l2=[[1,2,3],[4,5,6]]\n",
        "flag=1\n",
        "for i in range(len(l1)):\n",
        "  for j in range(len(l2)):\n",
        "    if l1[i][j]!=l2[i][j]:\n",
        "      flag=0\n",
        "if flag==1:\n",
        "  print(\"identical\")\n",
        "else:\n",
        "  print(\"not identical\")"
      ],
      "execution_count": null,
      "outputs": []
    },
    {
      "cell_type": "code",
      "metadata": {
        "id": "fz8QjlCk_y4h"
      },
      "source": [
        "#spiral matrix\n",
        "a=[.]\n",
        "print('ente the row size m and col size n')\n",
        "m,n=map(int,input().split())\n",
        "for i in range(0,m):\n",
        "  for j in range(0,n):\n",
        "    print('enter i , j values')\n",
        "    a[i][j]\n",
        "k=0 # row pointer\n",
        "l=0 # column pointer\n",
        "m=3 # no. of rows\n",
        "n=4 # no. of col\n",
        "while k<m and l<n:\n",
        "  for i in range(l,n):\n",
        "    print(a[k][i],end='')\n",
        "  k+=1\n",
        "  for i in range(k,m):\n",
        "    print(a[i][n-1])\n",
        "  n-=1 #n=3\n",
        "  if k<m:\n",
        "    for i in range(n-1,l-1,-1):\n",
        "      print(a[m-1][i],end='')\n",
        "    m-=1\n",
        "  if l<n:\n",
        "    for i in range(m-1,k-1,-1):\n",
        "      print(a[i][1],end=' ')\n",
        "    l+=1"
      ],
      "execution_count": null,
      "outputs": []
    },
    {
      "cell_type": "code",
      "metadata": {
        "id": "6x9icr_gVC1o"
      },
      "source": [
        "#hallow triangle\n",
        "'''r,c=map(int,input().split())\n",
        "for i in range(r):\n",
        "  for j in range(i+1):\n",
        "    if j==0 or i==r-1 or i==j:\n",
        "      print(\"*\",end='')\n",
        "    else:\n",
        "      print(\" \",end='')\n",
        "  print()\n",
        "-------------------\n",
        "for i in range(1,r+1):\n",
        "  for j in range(1,i+1):\n",
        "    print(i*j,end='')\n",
        "  print()\n",
        "\n",
        "--------------------\n",
        "\n",
        "#2 add odd values nd subtract even values\n",
        "l=map(int,input().split())\n",
        "od=0\n",
        "ev=0\n",
        "for i in l:\n",
        "  if i%2==0:\n",
        "    ev+=i\n",
        "  else:\n",
        "    od+=i\n",
        "print(od-ev)'''\n",
        "\n",
        "\n",
        "#pgm to print pairs from a list equal to given number\n",
        "l=[1,2,3,4,5]\n",
        "s=int(input('enter a no to search'))\n",
        "count=0\n",
        "for i in range(len(l)):\n",
        "  for j in range(i+1,len(l)):\n",
        "    if l[i]+l[j]==s:\n",
        "      print(l[i],l[j])"
      ],
      "execution_count": null,
      "outputs": []
    },
    {
      "cell_type": "code",
      "metadata": {
        "id": "rVubWeIdUZmX"
      },
      "source": [
        "'''#generate all ythagorean triplets with values smaller than given values\n",
        "limit=int(input())\n",
        "for i in range(3,limit+1):\n",
        "  for j in range(i+1,limit+1):\n",
        "    for k in range(j+1,limit+1):\n",
        "      if i**2+j**2==k**2:\n",
        "        print(i,j,k)\n",
        "\n",
        "#condition check i>j>k\n",
        "l=list(map(int,input().split()))\n",
        "count=0\n",
        "for i in range(len(l)-2):\n",
        "  for j in range(i+1,len(l)-1):\n",
        "    for k in range(j+1,len(l)):\n",
        "      if l[j]-l[i]==l[k]-l[j]:\n",
        "        count+=1\n",
        "print(count)\n",
        "\n",
        "#pgm 2 print freq of char\n",
        "s=input()\n",
        "freq=[0]*256\n",
        "for i in s:\n",
        "  freq[ord(i)]+=1\n",
        "for i in range(256):\n",
        "  if freq[i]!=0:\n",
        "    print(chr(i),freq[i])\n",
        "\n",
        "#reversed useing key words\n",
        "s=input()\n",
        "w=s.split()\n",
        "nw=' '.join(reversed(w))\n",
        "print(nw)  \n",
        "'''\n",
        "#pgm to remove char expect alphabets\n",
        "string=input()\n",
        "s=''\n",
        "for i in string:\n",
        "  if i.isalpha():\n",
        "    s+=i\n",
        "print(s)\n",
        "\n",
        "\n",
        "#to find substrings ina strings\n",
        "string=input()\n",
        "substring=input()\n",
        "count=0\n",
        "for i in range(len(string)):\n",
        "  if string[i]==substring[0]:\n",
        "    if string[i:(i+len(substring))]==substring:\n",
        "      count+=1\n",
        "print(count)"
      ],
      "execution_count": null,
      "outputs": []
    },
    {
      "cell_type": "code",
      "metadata": {
        "id": "WviK5LwD64gd"
      },
      "source": [
        "#string rotation"
      ],
      "execution_count": null,
      "outputs": []
    },
    {
      "cell_type": "code",
      "metadata": {
        "id": "K9GZh6wwIrZU"
      },
      "source": [
        "import spacy\n",
        "from spacy import displacy\n",
        "nlp=spacy.load(\"en_core_web_sm\")\n",
        "doc=nlp(\"this is a sentence.\")\n",
        "displacy.serve(doc, style=\"dep\")"
      ],
      "execution_count": null,
      "outputs": []
    },
    {
      "cell_type": "code",
      "metadata": {
        "id": "ilE9cmwtWAdA"
      },
      "source": [
        "import spacy\n",
        "from spacy import displacy\n",
        "\n",
        "nlp = spacy.load(\"en_core_web_sm\")\n",
        "text = \"\"\"In ancient Rome, some neighbors live in three adjacent houses. In the center is the house of Senex, who lives there with wife Domina, son Hero, and several slaves, including head slave Hysterium and the musical's main character Pseudolus. A slave belonging to Hero, Pseudolus wishes to buy, win, or steal his freedom. One of the neighboring houses is owned by Marcus Lycus, who is a buyer and seller of beautiful women; the other belongs to the ancient Erronius, who is abroad searching for his long-lost children (stolen in infancy by pirates). One day, Senex and Domina go on a trip and leave Pseudolus in charge of Hero. Hero confides in Pseudolus that he is in love with the lovely Philia, one of the courtesans in the House of Lycus (albeit still a virgin).\"\"\"\n",
        "doc = nlp(text)\n",
        "sentence_spans = list(doc.sents)\n",
        "displacy.serve(sentence_spans, style=\"dep\")\n"
      ],
      "execution_count": null,
      "outputs": []
    },
    {
      "cell_type": "code",
      "metadata": {
        "id": "NczJj-njapb4"
      },
      "source": [
        "colors = {\"ORG\": \"linear-gradient(90deg, #aa9cfc, #fc9ce7)\"}\n",
        "options = {\"ents\": [\"ORG\"], \"colors\": colors}\n",
        "displacy.serve(doc, style=\"ent\", options=options)"
      ],
      "execution_count": null,
      "outputs": []
    },
    {
      "cell_type": "code",
      "metadata": {
        "colab": {
          "base_uri": "https://localhost:8080/"
        },
        "id": "R50dVnlPmVMo",
        "outputId": "0166b624-b827-4ccd-ad3a-1005b3b9ab58"
      },
      "source": [
        "a=\"i am an indian\"\n",
        "s=a.split()\n",
        "\n",
        "for j in range(len(s),0,-1):\n",
        "  print(s[j-1]+\" \",end=\"\")\n",
        "b=input(\"enter a str\")\n",
        "k=len(b)\n",
        "while k>0:\n",
        "  print(b[k-1][::-1],end='')\n",
        "  k=k-1\n"
      ],
      "execution_count": null,
      "outputs": [
        {
          "output_type": "stream",
          "text": [
            "4\n",
            "indian an am i enter a stri am ok\n",
            "ko ma i"
          ],
          "name": "stdout"
        }
      ]
    },
    {
      "cell_type": "code",
      "metadata": {
        "id": "rQLCTSImZxN5"
      },
      "source": [
        "z='''Beautiful is better than ugly.\n",
        "Explicit is better than implicit.\n",
        "Simple is better than complex.\n",
        "Complex is better than complicated.\n",
        "Flat is better than nested.\n",
        "Sparse is better than dense.\n",
        "Readability counts.\n",
        "Special cases aren't special enough to break the rules.\n",
        "Although practicality beats purity.\n",
        "Errors should never pass silently.\n",
        "Unless explicitly silenced.\n",
        "In the face of ambiguity, refuse the temptation to guess.\n",
        "There should be one-- and preferably only one --obvious way to do it.\n",
        "Although that way may not be obvious at first unless you're Dutch.\n",
        "Now is better than never.\n",
        "Although never is often better than *right* now.\n",
        "If the implementation is hard to explain, it's a bad idea.\n",
        "If the implementation is easy to explain, it may be a good idea.\n",
        "Namespaces are one honking great idea -- let's do more of those!'''"
      ],
      "execution_count": null,
      "outputs": []
    },
    {
      "cell_type": "code",
      "metadata": {
        "id": "VN9f1y1pce-G"
      },
      "source": [
        "z.splitlines()"
      ],
      "execution_count": null,
      "outputs": []
    },
    {
      "cell_type": "code",
      "metadata": {
        "id": "H_lx2MTfd_vX"
      },
      "source": [
        "zn=z.replace(\".\",\" \")\n",
        "w=zn.split()"
      ],
      "execution_count": null,
      "outputs": []
    },
    {
      "cell_type": "code",
      "metadata": {
        "id": "31lZswjdcpkN"
      },
      "source": [
        "w.count('idea')"
      ],
      "execution_count": null,
      "outputs": []
    },
    {
      "cell_type": "code",
      "metadata": {
        "id": "BeeJGL7On6hh"
      },
      "source": [
        "a=1.00200\n",
        "float(a)\n",
        "print('%.1f'%a)\n",
        "print('{0:.2f}'.format(a))\n",
        "print(round(a,3))"
      ],
      "execution_count": null,
      "outputs": []
    },
    {
      "cell_type": "code",
      "metadata": {
        "colab": {
          "base_uri": "https://localhost:8080/"
        },
        "id": "A9MP0MxTtmyO",
        "outputId": "ae257d8c-71f3-4c3d-aa62-74aac9a35cf1"
      },
      "source": [
        "a=int(False)\n",
        "print(a)"
      ],
      "execution_count": null,
      "outputs": [
        {
          "output_type": "stream",
          "text": [
            "0\n"
          ],
          "name": "stdout"
        }
      ]
    },
    {
      "cell_type": "code",
      "metadata": {
        "colab": {
          "base_uri": "https://localhost:8080/"
        },
        "id": "vhZYKv9Yt_xM",
        "outputId": "64783502-7f05-4761-f227-3e93235935bf"
      },
      "source": [
        "'''n=int(input('enter a value'))\n",
        "for i in range(n,0,-1):\n",
        "  print(' '+'*'*i)\n",
        "  \n",
        "n=int(input('enter a value'))\n",
        "for i in range(1,n+1):\n",
        "  print('*'*(n+1-i))\n",
        "\n",
        "n=int(input('enter a value'))\n",
        "for i in range(n,0,-1):\n",
        "  print('*'*(i))\n",
        "\n",
        "n=int(input('enter a value'))\n",
        "for j in range(1,n+1):\n",
        "  print(' '*(n+1-j)+'*'*j)\n",
        "#n=int(input('enter a value'))\n",
        "for i in range(1,n+1):\n",
        "  print(' '*(i-1)+'* '*(n+1-i))\n",
        "\n",
        "for i in range(n):\n",
        "  for j in range(i+1,n*2):\n",
        "    print(j,end='')\n",
        "  print()\n",
        "\n",
        "#IMportant Euni mart\n",
        "\n",
        "n=int(input(\"enter th evalu\"))\n",
        "k=0\n",
        "for i in range(1,n+1):\n",
        "  \n",
        "  for j in range(1,i+1):\n",
        "    k=i-1\n",
        "    print(k+j,end='')\n",
        "    \n",
        "    \n",
        "  print()'''\n",
        " \n",
        "\n",
        "\n"
      ],
      "execution_count": null,
      "outputs": [
        {
          "output_type": "stream",
          "text": [
            "enter th evalu5\n",
            "1\n",
            "23\n",
            "345\n",
            "4567\n",
            "56789\n"
          ],
          "name": "stdout"
        }
      ]
    },
    {
      "cell_type": "code",
      "metadata": {
        "colab": {
          "base_uri": "https://localhost:8080/",
          "height": 135
        },
        "id": "8J_y9r7kA2wm",
        "outputId": "9b810acb-31ae-44e0-f7e7-67a5e820d93a"
      },
      "source": [
        "'''\n",
        "n=int(input(\"enter th evalu\"))\n",
        "for i in range(0,n):\n",
        "  print(\" \"*i,end='')\n",
        "  for j in range(n,0-i):\n",
        "    \n",
        "    print(j,end='') \n",
        "  print()'''\n",
        "\n",
        "\n",
        "\n",
        "n=(int(input('enter tvalue'))\n",
        "for i in range(1,n):\n",
        "  for j in range(n-1,i-1,-1):\n",
        "\n",
        "    print(j,end='')\n",
        "  print()\n"
      ],
      "execution_count": null,
      "outputs": [
        {
          "output_type": "error",
          "ename": "SyntaxError",
          "evalue": "ignored",
          "traceback": [
            "\u001b[0;36m  File \u001b[0;32m\"<ipython-input-74-c2a7eaa2193a>\"\u001b[0;36m, line \u001b[0;32m13\u001b[0m\n\u001b[0;31m    for i in range(1,n):\u001b[0m\n\u001b[0m                       ^\u001b[0m\n\u001b[0;31mSyntaxError\u001b[0m\u001b[0;31m:\u001b[0m invalid syntax\n"
          ]
        }
      ]
    },
    {
      "cell_type": "code",
      "metadata": {
        "colab": {
          "base_uri": "https://localhost:8080/",
          "height": 126
        },
        "id": "NZf9kvmQ06n3",
        "outputId": "ac400c2f-879a-4cce-a6ac-3b8b659e3cea"
      },
      "source": [
        "n=int(input('enter a value'))\n",
        "k=1\n",
        "for i in range(1,n+1):\n",
        "\n",
        "  print(' '*(n-i+1)+'*'*i+' ',end='')\n",
        "  for j in range(1,i+1):\n",
        "    k=i-1\n",
        "    print(k+j,end='')\n",
        "  print()\n",
        "\n",
        "\n",
        "''' for i in range(k,i+k):\n",
        "    print(i,end='')\n",
        "    k=k+1\n",
        "\n",
        "\n",
        "\n",
        "for i in range(1,n+1):\n",
        "  for j in range(1,i):\n",
        "    print(' ',end='')\n",
        "  for j in range(2*n-1,2*i,-1):\n",
        "    print('*',end='')\n",
        "  print()'''"
      ],
      "execution_count": null,
      "outputs": [
        {
          "output_type": "stream",
          "text": [
            "enter a value3\n",
            "   * 1\n",
            "  ** 23\n",
            " *** 345\n"
          ],
          "name": "stdout"
        },
        {
          "output_type": "execute_result",
          "data": {
            "application/vnd.google.colaboratory.intrinsic+json": {
              "type": "string"
            },
            "text/plain": [
              "\" for i in range(k,i+k):\\n    print(i,end='')\\n    k=k+1\\n\\n\\n\\nfor i in range(1,n+1):\\n  for j in range(1,i):\\n    print(' ',end='')\\n  for j in range(2*n-1,2*i,-1):\\n    print('*',end='')\\n  print()\""
            ]
          },
          "metadata": {
            "tags": []
          },
          "execution_count": 68
        }
      ]
    },
    {
      "cell_type": "code",
      "metadata": {
        "colab": {
          "base_uri": "https://localhost:8080/"
        },
        "id": "FZkb80hA349-",
        "outputId": "225471d1-9ef5-443d-f570-70e323bf8c2e"
      },
      "source": [
        "k=0\n",
        "n=int(input('enter n:'))\n",
        "for i in range(n,0,-1):\n",
        "  print('*'*i+' '*k+'*'*i)\n",
        "  k=k+2\n",
        "for j in range(1,n+1):\n",
        "  k=k-2\n",
        "  print('*'*j+' '*k+'*'*j)\n",
        "  "
      ],
      "execution_count": null,
      "outputs": [
        {
          "output_type": "stream",
          "text": [
            "enter n:5\n",
            "**********\n",
            "****  ****\n",
            "***    ***\n",
            "**      **\n",
            "*        *\n",
            "*        *\n",
            "**      **\n",
            "***    ***\n",
            "****  ****\n",
            "**********\n"
          ],
          "name": "stdout"
        }
      ]
    },
    {
      "cell_type": "code",
      "metadata": {
        "id": "vMmhE3HI58KJ"
      },
      "source": [
        "s=input('enter a string')\n",
        "print(s[::-1])"
      ],
      "execution_count": null,
      "outputs": []
    },
    {
      "cell_type": "code",
      "metadata": {
        "id": "B72iftW58CoO"
      },
      "source": [
        "s=0\n",
        "l=list(map(int,input().split(',')))\n",
        "for i in l:\n",
        "  s=s+i\n",
        "print(s)"
      ],
      "execution_count": null,
      "outputs": []
    },
    {
      "cell_type": "code",
      "metadata": {
        "id": "3xPy872f-bku"
      },
      "source": [
        "l=[]\n",
        "k=0\n",
        "n=int(input('enter size'))\n",
        "for i in range(1,n+1):\n",
        "  l.append(int(input()))\n",
        "print('the values are',l)\n",
        "for j in l:\n",
        "  k=k+j\n",
        "print(k)"
      ],
      "execution_count": null,
      "outputs": []
    },
    {
      "cell_type": "code",
      "metadata": {
        "id": "um7bl6VnAMnb"
      },
      "source": [
        "#to reverse a string\n",
        "s=input(\"enter the string\")\n",
        "l=s.split()\n",
        "k=len(l)\n",
        "while(k>0):\n",
        "  print(l[k-1],end=' ')\n",
        "  k=k-1\n",
        "#to reverse the letters in a word of a string\n",
        "s=input('enter the string')\n",
        "l=s.split()\n",
        "k=len(l)\n",
        "for i in range (0,k):\n",
        "  print(l[i][::-1],end=' ')"
      ],
      "execution_count": null,
      "outputs": []
    },
    {
      "cell_type": "code",
      "metadata": {
        "id": "oR61XzP3fgzS"
      },
      "source": [
        "'''def p(s,n):\n",
        "  first=s[:n]\n",
        "  second=s[n+1:]\n",
        "  return first+second\n",
        "s=input('enter')\n",
        "n=int(input('enter no.'))\n",
        "print(p(s,n))\n",
        "'''\n",
        "s=input('enter str')\n",
        "l1=[],l2=[]\n",
        "for i in s:\n",
        "  if i isdigit():\n",
        "    l1.append[i]\n",
        "  else:\n",
        "    l2.append[i]\n",
        "print(l1+\" \"+l2)"
      ],
      "execution_count": null,
      "outputs": []
    },
    {
      "cell_type": "code",
      "metadata": {
        "id": "xEIhfmz_Vjlh"
      },
      "source": [
        "tup=(\"1\",'two',155.5,False,True,'abc')\n",
        "print(tup[:-4:-1])\n",
        "print(tup[:])\n",
        "print(tup[::2])\n",
        "print(tup[::-2])\n",
        "print(tup[-1:-4])"
      ],
      "execution_count": null,
      "outputs": []
    },
    {
      "cell_type": "code",
      "metadata": {
        "id": "kMQWwd3Viuiv"
      },
      "source": [
        "l=[('a','b','c'),('d','e','f'),('g','h','i')]\n",
        "print([t[:-1]+('z',) for t in l ])"
      ],
      "execution_count": null,
      "outputs": []
    },
    {
      "cell_type": "code",
      "metadata": {
        "id": "dEbOlwWnXiIu"
      },
      "source": [
        "import matplotlib.pyplot as plt\n",
        "import numpy as np\n",
        "y=np.array([10,30,40,50])\n",
        "plt.pie(y)\n",
        "plt.show()\n",
        "#plots by comparing all the values with formula X/sum(all X)"
      ],
      "execution_count": null,
      "outputs": []
    },
    {
      "cell_type": "code",
      "metadata": {
        "id": "bCxZGJcZYqa_"
      },
      "source": [
        "mylab=('am','ak','aj','as') #labels musttt be as of declared things or elements\n",
        "plt.pie(y,labels=mylab)\n",
        "plt.show()\n",
        "\n",
        "\n",
        "#pie chart is defind by angles staring from clock wise direction\n",
        "#0,90,180,270,---As mentioned the default start angle is at the x-axis, but you can change the start angle by specifying a startangle parameter.\n",
        "\n",
        "#The startangle parameter is defined with an angle in degrees, default angle is 0:"
      ],
      "execution_count": null,
      "outputs": []
    },
    {
      "cell_type": "code",
      "metadata": {
        "id": "5TBRU88AaZ44"
      },
      "source": [
        "plt.pie(y,labels=mylab,startangle=90)\n",
        "plt.show()"
      ],
      "execution_count": null,
      "outputs": []
    },
    {
      "cell_type": "code",
      "metadata": {
        "id": "Vg9RwUV_a2Ni"
      },
      "source": [
        "'''\n",
        "Maybe you want one of the wedges to stand out? The explode parameter allows you to do that.\n",
        "\n",
        "The explode parameter, if specified, and not None, must be an array with one value for each wedge'''\n",
        "myexplode=[0.2,0,0,0.4]\n",
        "plt.pie(y,labels=mylab,startangle=90,explode=myexplode)\n",
        "plt.show()"
      ],
      "execution_count": null,
      "outputs": []
    },
    {
      "cell_type": "code",
      "metadata": {
        "id": "16AZ8F-WcA_M"
      },
      "source": [
        "plt.pie(y,labels=mylab,startangle=90,explode=myexplode,shadow=True) #to give shadow\n",
        "plt.show()"
      ],
      "execution_count": null,
      "outputs": []
    },
    {
      "cell_type": "code",
      "metadata": {
        "id": "INxpntawcSkQ"
      },
      "source": [
        "mycolors = [\"black\", \"hotpink\", \"b\",\"r\"]\n",
        "plt.pie(y,labels=mylab,startangle=90,explode=myexplode,shadow=True,colors=mycolors)\n",
        "plt.legend(title='four types')\n",
        "plt.show()"
      ],
      "execution_count": null,
      "outputs": []
    },
    {
      "cell_type": "code",
      "metadata": {
        "id": "0sqcR7_3eU8U"
      },
      "source": [
        "#Create an array with data type string:\n",
        "import numpy as np\n",
        "\n",
        "arr = np.array([1, 2, 3, 4], dtype='S')\n",
        "\n",
        "print(arr)\n",
        "print(arr.dtype)\n"
      ],
      "execution_count": null,
      "outputs": []
    },
    {
      "cell_type": "code",
      "metadata": {
        "id": "FfVtIyXxhcB1"
      },
      "source": [
        "#create a data types woth aray 4 bytes(8*4=32bits) int\n",
        "arr=np.array([1,2,3,4],dtype='i4')\n",
        "print(arr)\n",
        "print(arr[0].dtype)"
      ],
      "execution_count": null,
      "outputs": []
    },
    {
      "cell_type": "code",
      "metadata": {
        "id": "oyHs2wm6jn7B"
      },
      "source": [
        "'''The astype() function creates a copy of the array, and allows you to specify the data type as a parameter.\n",
        "\n",
        "The data type can be specified using a string, like 'f' for float, 'i' for integer etc. or you can use the data type directly like float for float and int for integer.'''\n",
        "arr = np.array([1.1, 2.1, 3.1])\n",
        "print(arr.dtype)\n",
        "newarr = arr.astype('i')  # or 'int'\n",
        "\n",
        "print(newarr)\n",
        "print(newarr.dtype)\n",
        "print(float)"
      ],
      "execution_count": null,
      "outputs": []
    },
    {
      "cell_type": "code",
      "metadata": {
        "colab": {
          "base_uri": "https://localhost:8080/"
        },
        "id": "Ay8hh6Wl2poT",
        "outputId": "8e54adae-c97f-46cf-a4bb-02c9af138fc1"
      },
      "source": [
        "#input:  8\n",
        "#        9 1 8 2 7 3 4 6\n",
        "#        3     first three numbers must be in increasing oredr remiaining in decresing order\n",
        "#output: 1 8 9 7 6 4 3 2 \n",
        "\n",
        "\n",
        "s=int(input())\n",
        "l=list(map(int,input().split()))\n",
        "p=int(input())\n",
        "k=[]\n",
        "m=[]\n",
        "for i in range(p):\n",
        "  k.append(l[i])\n",
        "k.sort()\n",
        "print(k)\n",
        "for i in range(p,s):\n",
        "  m.append(l[i])\n",
        "m.sort(reverse=True)\n",
        "for i in m:\n",
        "  k.append(i)\n",
        "for i in k:\n",
        "  print(i,end=' ')"
      ],
      "execution_count": null,
      "outputs": [
        {
          "output_type": "stream",
          "text": [
            "8\n",
            "9 1 8 2 7 3 4 6\n",
            "3\n",
            "[1, 8, 9]\n",
            "1 8 9 7 6 4 3 2 "
          ],
          "name": "stdout"
        }
      ]
    },
    {
      "cell_type": "code",
      "metadata": {
        "colab": {
          "base_uri": "https://localhost:8080/"
        },
        "id": "LuRsu3uy3hE0",
        "outputId": "a27f6fdc-c9b9-4930-d1c4-559b43521576"
      },
      "source": [
        "#input :  5                 finding the given numbers is in range or not\n",
        "#         10 20 30 40 50\n",
        "#         20               range \n",
        "#         50               giving\n",
        "# output: 20 30 40 50\n",
        "\n",
        "\n",
        "\n",
        "s=int(input())\n",
        "l=list(map(int,input().split()))\n",
        "t=len(l)\n",
        "a=int(input())\n",
        "b=int(input())\n",
        "k=[]\n",
        "for i in range(t):\n",
        "  k.append(l[i])\n",
        "  if k[i]  in range(a,b+1):\n",
        "\n",
        "    print(k[i],end=' ')"
      ],
      "execution_count": null,
      "outputs": [
        {
          "output_type": "stream",
          "text": [
            "5\n",
            "10 20 30 40 50\n",
            "20\n",
            "50\n",
            "20 30 40 50 "
          ],
          "name": "stdout"
        }
      ]
    },
    {
      "cell_type": "code",
      "metadata": {
        "colab": {
          "base_uri": "https://localhost:8080/"
        },
        "id": "UZjnXCrQCI4A",
        "outputId": "b371d3b3-bbdb-484a-83f0-16127120ed8b"
      },
      "source": [
        "# input : 10\n",
        "#         1 1 1 2 3 4 5 6 7 8\n",
        "#         8                       COUnting the number of numbers that are not \n",
        "#         1 8 9 10 5 6 35 85      common in both the sets\n",
        "# output : 8\n",
        "\n",
        "\n",
        "\n",
        "\n",
        "s=int(input())\n",
        "l=set(map(int,input().split()))\n",
        "s1=int(input())\n",
        "l1=set(map(int,input().split()))\n",
        "a=l-l1\n",
        "c=len(a)\n",
        "b=l1-l\n",
        "d=len(b)\n",
        "e=c+d\n",
        "print(e)"
      ],
      "execution_count": null,
      "outputs": [
        {
          "output_type": "stream",
          "text": [
            "10\n",
            "1 1 1 2 3 4 5 6 7 8\n",
            "8\n",
            "1 8 9 10 5 6 35 85\n",
            "8\n"
          ],
          "name": "stdout"
        }
      ]
    }
  ]
}